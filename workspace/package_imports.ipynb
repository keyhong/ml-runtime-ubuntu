{
 "cells": [
  {
   "cell_type": "code",
   "execution_count": null,
   "id": "4227468b-4dc7-4f74-a6a1-7ddd2ff6f481",
   "metadata": {},
   "outputs": [],
   "source": [
    "# for file in *.deb; do   dpkg-deb -x \"$file\" /home/cdsw/inst; done"
   ]
  },
  {
   "cell_type": "code",
   "execution_count": null,
   "id": "fd9e0889-1874-491c-8471-b77f094a9242",
   "metadata": {},
   "outputs": [],
   "source": [
    "import pyodbc"
   ]
  },
  {
   "cell_type": "code",
   "execution_count": null,
   "id": "1bba017f-df49-4729-a0bf-566f689f48c4",
   "metadata": {},
   "outputs": [],
   "source": [
    "cp /var/cache/apt/archives/*.deb /home/cdsw/ubuntu_packages/pandoc"
   ]
  },
  {
   "cell_type": "code",
   "execution_count": null,
   "id": "c880c811-fc46-43b9-9ae3-aaaae0c0f007",
   "metadata": {},
   "outputs": [],
   "source": []
  },
  {
   "cell_type": "code",
   "execution_count": null,
   "id": "ea27251b-8aa7-440f-a005-39390629c715",
   "metadata": {},
   "outputs": [],
   "source": [
    "#! /bin/bash\n",
    "#\n",
    "# Copyright 2019 Team KoNLPy\n",
    "#\n",
    "# Licensed under the Apache License, Version 2.0 (the \"License\");\n",
    "# you may not use this file except in compliance with the License.\n",
    "# You may obtain a copy of the License at\n",
    "#\n",
    "#     http://www.apache.org/licenses/LICENSE-2.0\n",
    "#\n",
    "# Unless required by applicable law or agreed to in writing, software\n",
    "# distributed under the License is distributed on an \"AS IS\" BASIS,\n",
    "# WITHOUT WARRANTIES OR CONDITIONS OF ANY KIND, either express or implied.\n",
    "# See the License for the specific language governing permissions and\n",
    "# limitations under the License.\n",
    "#\n",
    "\n",
    "# Set mecab related variable(s)\n",
    "mecab_dicdir=\"/usr/local/lib/mecab/dic/mecab-ko-dic\"\n",
    "\n",
    "# Exit as soon as we fail\n",
    "set -e\n",
    "\n",
    "# Determine OS\n",
    "os=$(uname)\n",
    "if [[ ! $os == \"Linux\" ]] && [[ ! $os == \"Darwin\" ]]; then\n",
    "    echo \"This script does not support this OS.\"\n",
    "    echo \"Try consulting https://github.com/konlpy/konlpy/blob/master/scripts/mecab.sh\"\n",
    "    exit 0\n",
    "fi\n",
    "\n",
    "# Determine sudo\n",
    "if hash \"sudo\" &>/dev/null; then\n",
    "    sudo=\"sudo\"\n",
    "else\n",
    "    sudo=\"\"\n",
    "fi\n",
    "\n",
    "# Determine python\n",
    "# TODO: Prefer python3 and Respect pyenv\n",
    "python=\"python3\"\n",
    "if hash \"pyenv\" &>/dev/null; then\n",
    "    python=\"python\"\n",
    "fi\n",
    "\n",
    "# Determine python site location are writable.\n",
    "check_python_site_location_is_writable(){\n",
    "    $python - <<EOF\n",
    "import site, os\n",
    "found = False\n",
    "for dir in site.getsitepackages():\n",
    "    if not os.path.isdir(dir):\n",
    "        continue\n",
    "    if os.access(dir, os.W_OK | os.X_OK):\n",
    "        found = True\n",
    "        break\n",
    "print(1 if found else 0)\n",
    "EOF\n",
    "}\n",
    "at_user_site=\"\"\n",
    "if [[ \"$(check_python_site_location_is_writable)\" == \"0\" ]]; then\n",
    "    at_user_site=\"--user\"\n",
    "fi\n",
    "\n",
    "install_mecab_ko(){\n",
    "    cd /tmp\n",
    "    curl -LO https://bitbucket.org/eunjeon/mecab-ko/downloads/mecab-0.996-ko-0.9.2.tar.gz\n",
    "    tar zxfv mecab-0.996-ko-0.9.2.tar.gz\n",
    "    cd mecab-0.996-ko-0.9.2\n",
    "    ./configure\n",
    "    make\n",
    "    make check\n",
    "    $sudo make install\n",
    "}\n",
    "\n",
    "install_automake(){\n",
    "    ## install requirement automake1.11\n",
    "    # TODO: if not [automake --version]\n",
    "    if [ \"$os\" == \"Linux\" ]; then\n",
    "        if [ \"$(grep -Ei 'debian|buntu|mint' /etc/*release)\" ]; then\n",
    "            $sudo apt-get update && $sudo apt-get install -y automake\n",
    "        elif [ \"$(grep -Ei 'fedora|redhat' /etc/*release)\" ]; then\n",
    "            $sudo yum install -y automake diffutils make\n",
    "        else\n",
    "            ##\n",
    "            # Autoconf\n",
    "            #\n",
    "            # stage directory\n",
    "            builddir=`mktemp -d` && cd $builddir\n",
    "\n",
    "            # download and extract source\n",
    "            curl -LO http://ftpmirror.gnu.org/autoconf/autoconf-latest.tar.gz\n",
    "            tar -zxvf autoconf-latest.tar.gz\n",
    "            rm autoconf-latest.tar.gz\n",
    "\n",
    "            # configure, make, install --prefix=/usr/local\n",
    "            cd autoconf*\n",
    "            ./configure\n",
    "            make\n",
    "            $sudo make install\n",
    "\n",
    "            # erase stage dir\n",
    "            rm -rf $builddir\n",
    "\n",
    "\n",
    "            ##\n",
    "            # Automake\n",
    "            #\n",
    "            # stage directory\n",
    "            builddir=`mktemp -d` && cd $builddir\n",
    "\n",
    "            # download and extract source\n",
    "            curl -LO http://ftpmirror.gnu.org/automake/automake-1.11.tar.gz\n",
    "            tar -zxvf automake-1.11.tar.gz\n",
    "\n",
    "            # configure, make, install --prefix=/usr/local\n",
    "            cd automake-1.11\n",
    "            ./configure\n",
    "            make\n",
    "            $sudo make install\n",
    "\n",
    "            # erase stage dir\n",
    "            rm -rf $builddir\n",
    "        fi\n",
    "\n",
    "    elif [ \"$os\" == \"Darwin\" ]; then\n",
    "        if [[ $(command -v brew) == \"\" ]]; then\n",
    "            echo \"This script require Homebrew!\"\n",
    "            echo \"Try https://brew.sh/\"\n",
    "            exit 0\n",
    "        fi\n",
    "        brew install automake\n",
    "    fi\n",
    "}\n",
    "\n",
    "install_mecab_ko_dic(){\n",
    "    echo \"Install mecab-ko-dic\"\n",
    "    cd /tmp\n",
    "    curl -LO https://bitbucket.org/eunjeon/mecab-ko-dic/downloads/mecab-ko-dic-2.1.1-20180720.tar.gz\n",
    "    tar -zxvf mecab-ko-dic-2.1.1-20180720.tar.gz\n",
    "    cd mecab-ko-dic-2.1.1-20180720\n",
    "    ./autogen.sh\n",
    "    ./configure\n",
    "    if [[ $os == \"Linux\" ]]; then\n",
    "        mecab-config --libs-only-L | $sudo tee /etc/ld.so.conf.d/mecab.conf  # XXX: Resolve #271, #182, #133\n",
    "        $sudo ldconfig\n",
    "    fi\n",
    "    make\n",
    "    $sudo sh -c 'echo \"dicdir=/usr/local/lib/mecab/dic/mecab-ko-dic\" > /usr/local/etc/mecabrc'\n",
    "    $sudo make install\n",
    "}\n",
    "\n",
    "install_mecab_python(){\n",
    "    pushd /tmp\n",
    "    if [[ ! -d \"mecab-python-0.996\" ]]; then\n",
    "        git clone https://bitbucket.org/eunjeon/mecab-python-0.996.git\n",
    "    fi\n",
    "    popd\n",
    "    if [[ \"$os\" == \"Darwin\" ]]; then\n",
    "        CFLAGS=-stdlib=libc++ $python -m pip install $at_user_site /tmp/mecab-python-0.996\n",
    "    else\n",
    "        # the gcc compiler has no such commandline option as -stdilb, so let's not use it. See discussion on #391.\n",
    "        $python -m pip install $at_user_site /tmp/mecab-python-0.996\n",
    "    fi\n",
    "}\n",
    "\n",
    "\n",
    "if ! hash \"automake\" &>/dev/null; then\n",
    "    echo \"Installing automake (A dependency for mecab-ko)\"\n",
    "    install_automake\n",
    "fi\n",
    "\n",
    "if hash \"mecab\" &>/dev/null; then\n",
    "    echo \"mecab-ko is already installed\"\n",
    "else\n",
    "    echo \"Install mecab-ko\"\n",
    "    install_mecab_ko\n",
    "fi\n",
    "\n",
    "if [[ -d $mecab_dicdir ]]; then\n",
    "    echo \"mecab-ko-dic is already installed\"\n",
    "else\n",
    "    echo \"Install mecab-ko-dic\"\n",
    "    install_mecab_ko_dic\n",
    "fi\n",
    "\n",
    "if [[ $($python -c 'import pkgutil; print(1 if pkgutil.find_loader(\"MeCab\") else 0)') == \"1\" ]]; then\n",
    "    echo \"mecab-python is already installed\"\n",
    "else\n",
    "    echo \"Install mecab-python\"\n",
    "    install_mecab_python\n",
    "fi\n",
    "\n",
    "echo \"Done.\""
   ]
  },
  {
   "cell_type": "code",
   "execution_count": null,
   "id": "e01931c5-3fa4-406d-815d-f6932295f9ed",
   "metadata": {},
   "outputs": [],
   "source": []
  },
  {
   "cell_type": "code",
   "execution_count": null,
   "id": "bb22dc58-1ac3-413d-8a6b-9e6a5af5e04e",
   "metadata": {},
   "outputs": [],
   "source": [
    "apt-get install -y --no-install-recommends --download-only tree\n",
    "mv /var/cache/apt/archives/*.deb /home/cdsw/packages/ubuntu_packages/tree"
   ]
  },
  {
   "cell_type": "markdown",
   "id": "cbd9c7c6-9ea4-406f-83a7-24d05d1e0bda",
   "metadata": {},
   "source": [
    "# Powerline"
   ]
  },
  {
   "cell_type": "code",
   "execution_count": null,
   "id": "c10cff13-35e2-47de-b571-e8f87e6c42c8",
   "metadata": {},
   "outputs": [],
   "source": [
    "apt-cache depends pandoc texlive-xetex texlive-fonts-recommended texlive-plain-generic | grep \"Depends\" | awk '{print $2}' | xargs apt-get download"
   ]
  },
  {
   "cell_type": "code",
   "execution_count": null,
   "id": "f6776a66-9de4-41f1-87ca-32ece81749d7",
   "metadata": {},
   "outputs": [],
   "source": []
  },
  {
   "cell_type": "code",
   "execution_count": null,
   "id": "e4c6a28b-200d-4d71-91ab-32de9c922abe",
   "metadata": {},
   "outputs": [],
   "source": [
    "apt-get install -y --no-install-recommends --download-only powerline\n",
    "mv /var/cache/apt/archives/*.deb /home/cdsw/packages/ubuntu_packages/powerline"
   ]
  },
  {
   "cell_type": "code",
   "execution_count": null,
   "id": "cc99c56d-746e-4f1a-98b0-2bf17654e2bc",
   "metadata": {},
   "outputs": [],
   "source": [
    "apt-get  --print-uris --yes --no-install-recommends install \\\n",
    "    pandoc texlive-xetex texlive-fonts-recommended texlive-plain-generic"
   ]
  },
  {
   "cell_type": "code",
   "execution_count": null,
   "id": "4a00f5cf-7825-41c6-af23-b34881eb153f",
   "metadata": {},
   "outputs": [],
   "source": [
    "apt-get install -y --no-install-recommends --download-only vim\n",
    "mv /var/cache/apt/archives/*.deb /home/cdsw/packages/ubuntu_packages/vim"
   ]
  },
  {
   "cell_type": "code",
   "execution_count": null,
   "id": "492ea6eb-2204-442c-8598-f76732532755",
   "metadata": {},
   "outputs": [],
   "source": [
    "apt-get install -y --no-install-recommends --download-only bash-completion\n",
    "mv /var/cache/apt/archives/*.deb /home/cdsw/packages/ubuntu_packages/bash-completion"
   ]
  },
  {
   "cell_type": "code",
   "execution_count": null,
   "id": "acad60c8-c998-4702-97b6-9b3b787aa5d5",
   "metadata": {},
   "outputs": [],
   "source": [
    "apt-get install -y --no-install-recommends --download-only python-dev\n",
    "cp /var/cache/apt/archives/*.deb /home/cdsw/packages/ubuntu_packages/python-dev"
   ]
  },
  {
   "cell_type": "code",
   "execution_count": null,
   "id": "1ab444bc-b54f-4fcb-af3c-35a7660f045f",
   "metadata": {},
   "outputs": [],
   "source": [
    "apt-get install -y --no-install-recommends --download-only python3-dev\n",
    "mv /var/cache/apt/archives/*.deb /home/cdsw/packages/ubuntu_packages/python3-dev"
   ]
  },
  {
   "cell_type": "code",
   "execution_count": null,
   "id": "3f27340d-61fd-46f1-bb14-3cd4582054cb",
   "metadata": {},
   "outputs": [],
   "source": [
    "apt-get install -y --no-install-recommends --download-only pandoc texlive-xetex texlive-fonts-recommended texlive-plain-generic\n",
    "mv /var/cache/apt/archives/*.deb /home/cdsw/packages/ubuntu_packages/common/pandoc"
   ]
  },
  {
   "cell_type": "markdown",
   "id": "445ff83d-0f94-4374-81e9-66dacc903a33",
   "metadata": {},
   "source": [
    "apt-get install -y --no-install-recommends --download-only pandoc texlive-xetex texlive-fonts-recommended texlive-plain-generic\n",
    "cp /var/cache/apt/archives/*.deb /home/cdsw/ubuntu_packages/pandoc\n",
    "\n",
    "apt-get install texlive-xetex texlive-fonts-recommended texlive-plain-generic\n",
    "\n",
    "apt-get install -y --no-install-recommends pandoc texlive-xetex texlive-fonts-recommended texlive-plain-generic"
   ]
  },
  {
   "cell_type": "markdown",
   "id": "e1f6f3b7-ecba-4e2f-b97b-6d066dd87d17",
   "metadata": {},
   "source": [
    "import pyodbc\n",
    "\n",
    "cd /var/cache/apt/archives/\n",
    "\n",
    "apt-get updatemM\n",
    "apt-get install unixodbc-dev\n",
    "apt-get install -y --no-install-recommends --download-only unixodbc-dev\n",
    "cp /var/cache/apt/archives/*.deb /home/cdsw/ubuntu_packages\n",
    "dpkg -i *.deb\n",
    "\n",
    "! pip install catboost"
   ]
  },
  {
   "cell_type": "markdown",
   "id": "0a71f667-e334-4f6f-bf5b-6ad3430dc0c7",
   "metadata": {},
   "source": [
    "# Basic"
   ]
  },
  {
   "cell_type": "code",
   "execution_count": null,
   "id": "449bee6f-aa93-4c1b-a2fe-eda3c4e4088b",
   "metadata": {},
   "outputs": [],
   "source": [
    "import boto3\n",
    "import dateutil.relativedelta\n",
    "import matplotlib\n",
    "import matplotlib.font_manager\n",
    "import matplotlib.pyplot\n",
    "import numpy\n",
    "import pandas\n",
    "import requests\n",
    "import six\n",
    "import urllib3\n",
    "import yaml\n",
    "from bs4 import BeautifulSoup\n",
    "from IPython import get_ipython\n",
    "# from IPython.core.display import display => from IPython.display import display\n",
    "from IPython.display import display\n",
    "\"\"\"\n",
    "/tmp/ipykernel_70/812137715.py:2: DeprecationWarning: Importing display from IPython.core.display is deprecated since IPython 7.14, please import from IPython.display\n",
    "  from IPython.core.display import display\n",
    "\"\"\"  \n",
    "from IPython.core.interactiveshell import InteractiveShell\n",
    "from IPython.display import IFrame\n",
    "from numpy import ndarray\n",
    "from pandas import DataFrame, Series\n",
    "from pandas.compat.pickle_compat import _class_locations_map\n",
    "from pandas.tseries.offsets import MonthEnd\n",
    "from PIL import Image\n",
    "from pytz import timezone, utc\n",
    "from requests import get\n",
    "from requests.packages.urllib3.exceptions import InsecureRequestWarning\n"
   ]
  },
  {
   "cell_type": "code",
   "execution_count": null,
   "id": "80d92375-ebd1-4260-8498-f3af874c28df",
   "metadata": {},
   "outputs": [],
   "source": [
    "from pyspark.ml import Pipeline, PipelineModel\n",
    "from pyspark.ml.classification import GBTClassifier, GBTClassificationModel, RandomForestClassifier, RandomForestClassificationModel\n",
    "from pyspark.ml.feature import MinMaxScaler, OneHotEncoder, StringIndexer, StringIndexerModel, Tokenizer, VectorAssembler\n",
    "from pyspark.ml.fpm import FPGrowth, FPGrowthModel\n",
    "from pyspark.sql import HiveContext, SparkSession, DataFrame, types, Window, functions"
   ]
  },
  {
   "cell_type": "markdown",
   "id": "25231164-86f7-4e44-bc98-f3def93ccec5",
   "metadata": {},
   "source": [
    "# 2. User Install"
   ]
  },
  {
   "cell_type": "markdown",
   "id": "9d985947-8751-4ef8-8945-31ac5f41b63e",
   "metadata": {},
   "source": [
    "## 2-0. visualization"
   ]
  },
  {
   "cell_type": "code",
   "execution_count": null,
   "id": "14a091ae-74f0-4098-bc49-c19112414194",
   "metadata": {},
   "outputs": [],
   "source": [
    "! pip install seaborn\n",
    "\n",
    "import seaborn"
   ]
  },
  {
   "cell_type": "markdown",
   "id": "306c1cd6-2703-4703-9d7f-f96a28e56516",
   "metadata": {},
   "source": [
    "## 2-1. Spark"
   ]
  },
  {
   "cell_type": "code",
   "execution_count": null,
   "id": "b3e7464c-a85d-467d-b838-c6eb4f2d469b",
   "metadata": {},
   "outputs": [],
   "source": [
    "import pyarrow\n",
    "import pyarrow.compute\n",
    "import pyarrow.parquet"
   ]
  },
  {
   "cell_type": "markdown",
   "id": "6f6ce68d-dd4c-43d3-b4b4-e24da61df774",
   "metadata": {},
   "source": [
    "## 2-2. Tensorflow"
   ]
  },
  {
   "cell_type": "code",
   "execution_count": null,
   "id": "4c26771a-b379-4fee-b8fc-29be97ef2eb0",
   "metadata": {},
   "outputs": [],
   "source": []
  },
  {
   "cell_type": "code",
   "execution_count": null,
   "id": "66d719cf-d156-42a5-9600-5a3bedf71c9d",
   "metadata": {},
   "outputs": [],
   "source": [
    "! pip install tensorflow[and-cuda]==2.17.1"
   ]
  },
  {
   "cell_type": "code",
   "execution_count": null,
   "id": "c1966c4c-2f23-4b1c-a6f5-eaed67369998",
   "metadata": {},
   "outputs": [],
   "source": [
    "import tensorflow\n",
    "# from tensorflow.contrib.nccl.python.ops import nccl_ops\n",
    "from tensorflow.python.ops import nccl_ops\n",
    "\"\"\"No module named 'tensorflow.contrib'\n",
    "=> from tensorflow.python.ops import nccl_ops\n",
    "\"\"\"\n",
    "from tensorflow.keras import Model, Sequential, layers"
   ]
  },
  {
   "cell_type": "markdown",
   "id": "aa924ebd-8892-48e6-8eaa-54ab40fbea30",
   "metadata": {},
   "source": [
    "## 2-3. Torch"
   ]
  },
  {
   "cell_type": "code",
   "execution_count": 1,
   "id": "804f3b67-7c9e-4b42-9827-3c59e228ea6a",
   "metadata": {},
   "outputs": [
    {
     "name": "stdout",
     "output_type": "stream",
     "text": [
      "Looking in indexes: https://download.pytorch.org/whl/cu124\n",
      "Collecting torch==2.6.0\n",
      "  Downloading https://download.pytorch.org/whl/cu124/torch-2.6.0%2Bcu124-cp311-cp311-linux_x86_64.whl.metadata (28 kB)\n",
      "Collecting torchvision==0.21.0\n",
      "  Downloading https://download.pytorch.org/whl/cu124/torchvision-0.21.0%2Bcu124-cp311-cp311-linux_x86_64.whl.metadata (6.1 kB)\n",
      "Collecting torchaudio==2.6.0\n",
      "  Downloading https://download.pytorch.org/whl/cu124/torchaudio-2.6.0%2Bcu124-cp311-cp311-linux_x86_64.whl.metadata (6.6 kB)\n",
      "Collecting filelock (from torch==2.6.0)\n",
      "  Downloading https://download.pytorch.org/whl/filelock-3.13.1-py3-none-any.whl.metadata (2.8 kB)\n",
      "Requirement already satisfied: typing-extensions>=4.10.0 in /usr/local/lib/python3.11/site-packages (from torch==2.6.0) (4.12.2)\n",
      "Collecting networkx (from torch==2.6.0)\n",
      "  Downloading https://download.pytorch.org/whl/networkx-3.3-py3-none-any.whl.metadata (5.1 kB)\n",
      "Requirement already satisfied: jinja2 in /usr/local/lib/python3.11/site-packages (from torch==2.6.0) (3.1.6)\n",
      "Requirement already satisfied: fsspec in /usr/local/lib/python3.11/site-packages (from torch==2.6.0) (2024.10.0)\n",
      "Collecting nvidia-cuda-nvrtc-cu12==12.4.127 (from torch==2.6.0)\n",
      "  Downloading https://download.pytorch.org/whl/cu124/nvidia_cuda_nvrtc_cu12-12.4.127-py3-none-manylinux2014_x86_64.whl (24.6 MB)\n",
      "\u001b[2K     \u001b[90m━━━━━━━━━━━━━━━━━━━━━━━━━━━━━━━━━━━━━━━━\u001b[0m \u001b[32m24.6/24.6 MB\u001b[0m \u001b[31m11.0 MB/s\u001b[0m eta \u001b[36m0:00:00\u001b[0m00:01\u001b[0m00:01\u001b[0m\n",
      "\u001b[?25hCollecting nvidia-cuda-runtime-cu12==12.4.127 (from torch==2.6.0)\n",
      "  Downloading https://download.pytorch.org/whl/cu124/nvidia_cuda_runtime_cu12-12.4.127-py3-none-manylinux2014_x86_64.whl (883 kB)\n",
      "\u001b[2K     \u001b[90m━━━━━━━━━━━━━━━━━━━━━━━━━━━━━━━━━━━━━━━\u001b[0m \u001b[32m883.7/883.7 kB\u001b[0m \u001b[31m8.2 MB/s\u001b[0m eta \u001b[36m0:00:00\u001b[0m\n",
      "\u001b[?25hCollecting nvidia-cuda-cupti-cu12==12.4.127 (from torch==2.6.0)\n",
      "  Downloading https://download.pytorch.org/whl/cu124/nvidia_cuda_cupti_cu12-12.4.127-py3-none-manylinux2014_x86_64.whl (13.8 MB)\n",
      "\u001b[2K     \u001b[90m━━━━━━━━━━━━━━━━━━━━━━━━━━━━━━━━━━━━━━━━\u001b[0m \u001b[32m13.8/13.8 MB\u001b[0m \u001b[31m8.9 MB/s\u001b[0m eta \u001b[36m0:00:00\u001b[0ma \u001b[36m0:00:01\u001b[0m\n",
      "\u001b[?25hCollecting nvidia-cudnn-cu12==9.1.0.70 (from torch==2.6.0)\n",
      "  Downloading https://download.pytorch.org/whl/cu124/nvidia_cudnn_cu12-9.1.0.70-py3-none-manylinux2014_x86_64.whl (664.8 MB)\n",
      "\u001b[2K     \u001b[90m━━━━━━━━━━━━━━━━━━━━━━━━━━━━━━━━━━━━━━\u001b[0m \u001b[32m664.8/664.8 MB\u001b[0m \u001b[31m11.0 MB/s\u001b[0m eta \u001b[36m0:00:00\u001b[0m00:01\u001b[0m00:02\u001b[0m\n",
      "\u001b[?25hCollecting nvidia-cublas-cu12==12.4.5.8 (from torch==2.6.0)\n",
      "  Downloading https://download.pytorch.org/whl/cu124/nvidia_cublas_cu12-12.4.5.8-py3-none-manylinux2014_x86_64.whl (363.4 MB)\n",
      "\u001b[2K     \u001b[90m━━━━━━━━━━━━━━━━━━━━━━━━━━━━━━━━━━━━━━\u001b[0m \u001b[32m363.4/363.4 MB\u001b[0m \u001b[31m11.4 MB/s\u001b[0m eta \u001b[36m0:00:00\u001b[0m00:01\u001b[0m00:01\u001b[0m\n",
      "\u001b[?25hCollecting nvidia-cufft-cu12==11.2.1.3 (from torch==2.6.0)\n",
      "  Downloading https://download.pytorch.org/whl/cu124/nvidia_cufft_cu12-11.2.1.3-py3-none-manylinux2014_x86_64.whl (211.5 MB)\n",
      "\u001b[2K     \u001b[90m━━━━━━━━━━━━━━━━━━━━━━━━━━━━━━━━━━━━━━\u001b[0m \u001b[32m211.5/211.5 MB\u001b[0m \u001b[31m11.4 MB/s\u001b[0m eta \u001b[36m0:00:00\u001b[0m00:01\u001b[0m00:01\u001b[0m\n",
      "\u001b[?25hCollecting nvidia-curand-cu12==10.3.5.147 (from torch==2.6.0)\n",
      "  Downloading https://download.pytorch.org/whl/cu124/nvidia_curand_cu12-10.3.5.147-py3-none-manylinux2014_x86_64.whl (56.3 MB)\n",
      "\u001b[2K     \u001b[90m━━━━━━━━━━━━━━━━━━━━━━━━━━━━━━━━━━━━━━━━\u001b[0m \u001b[32m56.3/56.3 MB\u001b[0m \u001b[31m12.0 MB/s\u001b[0m eta \u001b[36m0:00:00\u001b[0m00:01\u001b[0m00:01\u001b[0m\n",
      "\u001b[?25hCollecting nvidia-cusolver-cu12==11.6.1.9 (from torch==2.6.0)\n",
      "  Downloading https://download.pytorch.org/whl/cu124/nvidia_cusolver_cu12-11.6.1.9-py3-none-manylinux2014_x86_64.whl (127.9 MB)\n",
      "\u001b[2K     \u001b[90m━━━━━━━━━━━━━━━━━━━━━━━━━━━━━━━━━━━━━━\u001b[0m \u001b[32m127.9/127.9 MB\u001b[0m \u001b[31m11.2 MB/s\u001b[0m eta \u001b[36m0:00:00\u001b[0m00:01\u001b[0m00:01\u001b[0m\n",
      "\u001b[?25hCollecting nvidia-cusparse-cu12==12.3.1.170 (from torch==2.6.0)\n",
      "  Downloading https://download.pytorch.org/whl/cu124/nvidia_cusparse_cu12-12.3.1.170-py3-none-manylinux2014_x86_64.whl (207.5 MB)\n",
      "\u001b[2K     \u001b[90m━━━━━━━━━━━━━━━━━━━━━━━━━━━━━━━━━━━━━━\u001b[0m \u001b[32m207.5/207.5 MB\u001b[0m \u001b[31m11.2 MB/s\u001b[0m eta \u001b[36m0:00:00\u001b[0m00:01\u001b[0m00:01\u001b[0m\n",
      "\u001b[?25hCollecting nvidia-cusparselt-cu12==0.6.2 (from torch==2.6.0)\n",
      "  Downloading https://download.pytorch.org/whl/cu124/nvidia_cusparselt_cu12-0.6.2-py3-none-manylinux2014_x86_64.whl.metadata (6.8 kB)\n",
      "Collecting nvidia-nccl-cu12==2.21.5 (from torch==2.6.0)\n",
      "  Downloading https://download.pytorch.org/whl/nvidia_nccl_cu12-2.21.5-py3-none-manylinux2014_x86_64.whl (188.7 MB)\n",
      "\u001b[2K     \u001b[90m━━━━━━━━━━━━━━━━━━━━━━━━━━━━━━━━━━━━━━\u001b[0m \u001b[32m188.7/188.7 MB\u001b[0m \u001b[31m11.2 MB/s\u001b[0m eta \u001b[36m0:00:00\u001b[0m00:01\u001b[0m00:01\u001b[0m\n",
      "\u001b[?25hCollecting nvidia-nvtx-cu12==12.4.127 (from torch==2.6.0)\n",
      "  Downloading https://download.pytorch.org/whl/cu124/nvidia_nvtx_cu12-12.4.127-py3-none-manylinux2014_x86_64.whl (99 kB)\n",
      "Collecting nvidia-nvjitlink-cu12==12.4.127 (from torch==2.6.0)\n",
      "  Downloading https://download.pytorch.org/whl/cu124/nvidia_nvjitlink_cu12-12.4.127-py3-none-manylinux2014_x86_64.whl (21.1 MB)\n",
      "\u001b[2K     \u001b[90m━━━━━━━━━━━━━━━━━━━━━━━━━━━━━━━━━━━━━━━━\u001b[0m \u001b[32m21.1/21.1 MB\u001b[0m \u001b[31m12.0 MB/s\u001b[0m eta \u001b[36m0:00:00\u001b[0ma \u001b[36m0:00:01\u001b[0m\n",
      "\u001b[?25hCollecting triton==3.2.0 (from torch==2.6.0)\n",
      "  Downloading https://download.pytorch.org/whl/triton-3.2.0-cp311-cp311-manylinux_2_27_x86_64.manylinux_2_28_x86_64.whl.metadata (1.4 kB)\n",
      "Collecting sympy==1.13.1 (from torch==2.6.0)\n",
      "  Downloading https://download.pytorch.org/whl/sympy-1.13.1-py3-none-any.whl (6.2 MB)\n",
      "\u001b[2K     \u001b[90m━━━━━━━━━━━━━━━━━━━━━━━━━━━━━━━━━━━━━━━━\u001b[0m \u001b[32m6.2/6.2 MB\u001b[0m \u001b[31m11.7 MB/s\u001b[0m eta \u001b[36m0:00:00\u001b[0ma \u001b[36m0:00:01\u001b[0m\n",
      "\u001b[?25hRequirement already satisfied: numpy in /usr/local/lib/python3.11/site-packages (from torchvision==0.21.0) (1.26.4)\n",
      "Requirement already satisfied: pillow!=8.3.*,>=5.3.0 in /usr/local/lib/python3.11/site-packages (from torchvision==0.21.0) (10.3.0)\n",
      "Collecting mpmath<1.4,>=1.1.0 (from sympy==1.13.1->torch==2.6.0)\n",
      "  Downloading https://download.pytorch.org/whl/mpmath-1.3.0-py3-none-any.whl (536 kB)\n",
      "\u001b[2K     \u001b[90m━━━━━━━━━━━━━━━━━━━━━━━━━━━━━━━━━━━━━━━\u001b[0m \u001b[32m536.2/536.2 kB\u001b[0m \u001b[31m4.1 MB/s\u001b[0m eta \u001b[36m0:00:00\u001b[0m\n",
      "\u001b[?25hRequirement already satisfied: MarkupSafe>=2.0 in /usr/local/lib/python3.11/site-packages (from jinja2->torch==2.6.0) (3.0.2)\n",
      "Downloading https://download.pytorch.org/whl/cu124/torch-2.6.0%2Bcu124-cp311-cp311-linux_x86_64.whl (768.5 MB)\n",
      "\u001b[2K   \u001b[90m━━━━━━━━━━━━━━━━━━━━━━━━━━━━━━━━━━━━━━━━\u001b[0m \u001b[32m768.5/768.5 MB\u001b[0m \u001b[31m10.0 MB/s\u001b[0m eta \u001b[36m0:00:00\u001b[0m00:01\u001b[0m00:02\u001b[0m\n",
      "\u001b[?25hDownloading https://download.pytorch.org/whl/cu124/torchvision-0.21.0%2Bcu124-cp311-cp311-linux_x86_64.whl (7.3 MB)\n",
      "\u001b[2K   \u001b[90m━━━━━━━━━━━━━━━━━━━━━━━━━━━━━━━━━━━━━━━━\u001b[0m \u001b[32m7.3/7.3 MB\u001b[0m \u001b[31m11.4 MB/s\u001b[0m eta \u001b[36m0:00:00\u001b[0ma \u001b[36m0:00:01\u001b[0m\n",
      "\u001b[?25hDownloading https://download.pytorch.org/whl/cu124/torchaudio-2.6.0%2Bcu124-cp311-cp311-linux_x86_64.whl (3.4 MB)\n",
      "\u001b[2K   \u001b[90m━━━━━━━━━━━━━━━━━━━━━━━━━━━━━━━━━━━━━━━━\u001b[0m \u001b[32m3.4/3.4 MB\u001b[0m \u001b[31m11.1 MB/s\u001b[0m eta \u001b[36m0:00:00\u001b[0ma \u001b[36m0:00:01\u001b[0m\n",
      "\u001b[?25hDownloading https://download.pytorch.org/whl/cu124/nvidia_cusparselt_cu12-0.6.2-py3-none-manylinux2014_x86_64.whl (150.1 MB)\n",
      "\u001b[2K   \u001b[90m━━━━━━━━━━━━━━━━━━━━━━━━━━━━━━━━━━━━━━━━\u001b[0m \u001b[32m150.1/150.1 MB\u001b[0m \u001b[31m10.6 MB/s\u001b[0m eta \u001b[36m0:00:00\u001b[0m00:01\u001b[0m00:01\u001b[0m\n",
      "\u001b[?25hDownloading https://download.pytorch.org/whl/triton-3.2.0-cp311-cp311-manylinux_2_27_x86_64.manylinux_2_28_x86_64.whl (166.7 MB)\n",
      "\u001b[2K   \u001b[90m━━━━━━━━━━━━━━━━━━━━━━━━━━━━━━━━━━━━━━━━\u001b[0m \u001b[32m166.7/166.7 MB\u001b[0m \u001b[31m9.6 MB/s\u001b[0m eta \u001b[36m0:00:00\u001b[0m00:01\u001b[0m00:01\u001b[0m\n",
      "\u001b[?25hDownloading https://download.pytorch.org/whl/filelock-3.13.1-py3-none-any.whl (11 kB)\n",
      "Downloading https://download.pytorch.org/whl/networkx-3.3-py3-none-any.whl (1.7 MB)\n",
      "\u001b[2K   \u001b[90m━━━━━━━━━━━━━━━━━━━━━━━━━━━━━━━━━━━━━━━━\u001b[0m \u001b[32m1.7/1.7 MB\u001b[0m \u001b[31m10.8 MB/s\u001b[0m eta \u001b[36m0:00:00\u001b[0m\n",
      "\u001b[?25hInstalling collected packages: triton, nvidia-cusparselt-cu12, mpmath, sympy, nvidia-nvtx-cu12, nvidia-nvjitlink-cu12, nvidia-nccl-cu12, nvidia-curand-cu12, nvidia-cufft-cu12, nvidia-cuda-runtime-cu12, nvidia-cuda-nvrtc-cu12, nvidia-cuda-cupti-cu12, nvidia-cublas-cu12, networkx, filelock, nvidia-cusparse-cu12, nvidia-cudnn-cu12, nvidia-cusolver-cu12, torch, torchvision, torchaudio\n",
      "\u001b[2K   \u001b[90m━━━━━━━━━━━━━━━━━━━━━━━━━━━━━━━━━━━━━━━━\u001b[0m \u001b[32m21/21\u001b[0m [torchaudio]1\u001b[0m [torchaudio]]ver-cu12]2]\n",
      "\u001b[1A\u001b[2KSuccessfully installed filelock-3.13.1 mpmath-1.3.0 networkx-3.3 nvidia-cublas-cu12-12.4.5.8 nvidia-cuda-cupti-cu12-12.4.127 nvidia-cuda-nvrtc-cu12-12.4.127 nvidia-cuda-runtime-cu12-12.4.127 nvidia-cudnn-cu12-9.1.0.70 nvidia-cufft-cu12-11.2.1.3 nvidia-curand-cu12-10.3.5.147 nvidia-cusolver-cu12-11.6.1.9 nvidia-cusparse-cu12-12.3.1.170 nvidia-cusparselt-cu12-0.6.2 nvidia-nccl-cu12-2.21.5 nvidia-nvjitlink-cu12-12.4.127 nvidia-nvtx-cu12-12.4.127 sympy-1.13.1 torch-2.6.0+cu124 torchaudio-2.6.0+cu124 torchvision-0.21.0+cu124 triton-3.2.0\n",
      "\u001b[33mWARNING: Running pip as the 'root' user can result in broken permissions and conflicting behaviour with the system package manager, possibly rendering your system unusable. It is recommended to use a virtual environment instead: https://pip.pypa.io/warnings/venv. Use the --root-user-action option if you know what you are doing and want to suppress this warning.\u001b[0m\u001b[33m\n",
      "\u001b[0m"
     ]
    }
   ],
   "source": [
    "! pip download torch==2.6.0 torchvision==0.21.0 torchaudio==2.6.0 --index-url https://download.pytorch.org/whl/cu124"
   ]
  },
  {
   "cell_type": "markdown",
   "id": "9758cf83-b16e-4a1a-8c96-366dd01e0fb0",
   "metadata": {},
   "source": [
    "! pip install torch==2.7.0 torchvision==0.22.0 torchaudio==2.7.0 --index-url https://download.pytorch.org/whl/cu118"
   ]
  },
  {
   "cell_type": "code",
   "execution_count": 5,
   "id": "9f52c7af-8674-4797-a4a8-2c606e049d30",
   "metadata": {},
   "outputs": [
    {
     "data": {
      "text/plain": [
       "\"cannot import name 'model_urls' from 'torchvision.models.vgg' (/usr/local/lib/python3.11/site-packages/torchvision/models/vgg.py)\\n=> \\nfrom torchvision.models.resnet import ResNet50_Weights\\n\\ncheckpoint = load_state_dict_from_url(ResNet50_Weights.IMAGENET1K_V2.url)\\n\""
      ]
     },
     "execution_count": 5,
     "metadata": {},
     "output_type": "execute_result"
    }
   ],
   "source": [
    "import torch\n",
    "import torch.backends.cudnn\n",
    "import torch.nn\n",
    "import torch.utils.data\n",
    "import torchvision.transforms\n",
    "\n",
    "from torch import BoolTensor, Tensor, nn\n",
    "from torch.autograd import Variable\n",
    "from torch.nn import AvgPool1d, Conv1d, Conv2d, ConvTranspose1d, Parameter\n",
    "from torch.nn import Embedding, Linear, ModuleList, ReLU, Sequential, functional\n",
    "from torch.nn.utils import remove_weight_norm, spectral_norm, weight_norm\n",
    "from torch.nn.utils.rnn import pack_padded_sequence, pad_packed_sequence\n",
    "from torch.utils.data import DataLoader, Dataset\n",
    "from torch.utils.data.dataset import Dataset\n",
    "from torchvision import models\n",
    "# from torchvision.models.vgg import model_urls\n",
    "\"\"\"cannot import name 'model_urls' from 'torchvision.models.vgg' (/usr/local/lib/python3.11/site-packages/torchvision/models/vgg.py)\n",
    "=> \n",
    "from torchvision.models.resnet import ResNet50_Weights\n",
    "\n",
    "checkpoint = load_state_dict_from_url(ResNet50_Weights.IMAGENET1K_V2.url)\n",
    "\"\"\""
   ]
  },
  {
   "cell_type": "markdown",
   "id": "99b34b1f-bee0-4f3e-9a09-8cf192715c7d",
   "metadata": {},
   "source": [
    "## 2-4. scikit-learn or Etc"
   ]
  },
  {
   "cell_type": "markdown",
   "id": "b2f15695-216c-465b-aeaf-af68fe24e2d6",
   "metadata": {},
   "source": [
    "! pip install catboost lightgbm xgboost scikit-learn lightfm tslearn\n",
    "! pip install dask[dataframe]"
   ]
  },
  {
   "cell_type": "code",
   "execution_count": 6,
   "id": "e45f288a-a15e-47dd-a78e-973f1b691006",
   "metadata": {},
   "outputs": [
    {
     "name": "stdout",
     "output_type": "stream",
     "text": [
      "Collecting catboost\n",
      "  Downloading catboost-1.2.8-cp311-cp311-manylinux2014_x86_64.whl.metadata (1.2 kB)\n",
      "Downloading catboost-1.2.8-cp311-cp311-manylinux2014_x86_64.whl (99.2 MB)\n",
      "\u001b[2K   \u001b[90m━━━━━━━━━━━━━━━━━━━━━━━━━━━━━━━━━━━━━━━━\u001b[0m \u001b[32m99.2/99.2 MB\u001b[0m \u001b[31m10.6 MB/s\u001b[0m eta \u001b[36m0:00:00\u001b[0m00:01\u001b[0m00:01\u001b[0m\n",
      "\u001b[?25hInstalling collected packages: catboost\n",
      "Successfully installed catboost-1.2.8\n",
      "\u001b[33mWARNING: Running pip as the 'root' user can result in broken permissions and conflicting behaviour with the system package manager, possibly rendering your system unusable. It is recommended to use a virtual environment instead: https://pip.pypa.io/warnings/venv. Use the --root-user-action option if you know what you are doing and want to suppress this warning.\u001b[0m\u001b[33m\n",
      "\u001b[0mCollecting lightgbm\n",
      "  Downloading lightgbm-4.6.0-py3-none-manylinux_2_28_x86_64.whl.metadata (17 kB)\n",
      "Downloading lightgbm-4.6.0-py3-none-manylinux_2_28_x86_64.whl (3.6 MB)\n",
      "\u001b[2K   \u001b[90m━━━━━━━━━━━━━━━━━━━━━━━━━━━━━━━━━━━━━━━━\u001b[0m \u001b[32m3.6/3.6 MB\u001b[0m \u001b[31m8.1 MB/s\u001b[0m eta \u001b[36m0:00:00\u001b[0ma \u001b[36m0:00:01\u001b[0m\n",
      "\u001b[?25hInstalling collected packages: lightgbm\n",
      "Successfully installed lightgbm-4.6.0\n",
      "\u001b[33mWARNING: Running pip as the 'root' user can result in broken permissions and conflicting behaviour with the system package manager, possibly rendering your system unusable. It is recommended to use a virtual environment instead: https://pip.pypa.io/warnings/venv. Use the --root-user-action option if you know what you are doing and want to suppress this warning.\u001b[0m\u001b[33m\n",
      "\u001b[0mCollecting xgboost\n",
      "  Downloading xgboost-3.0.2-py3-none-manylinux_2_28_x86_64.whl.metadata (2.1 kB)\n",
      "Downloading xgboost-3.0.2-py3-none-manylinux_2_28_x86_64.whl (253.9 MB)\n",
      "\u001b[2K   \u001b[90m━━━━━━━━━━━━━━━━━━━━━━━━━━━━━━━━━━━━━━━━\u001b[0m \u001b[32m253.9/253.9 MB\u001b[0m \u001b[31m11.1 MB/s\u001b[0m eta \u001b[36m0:00:00\u001b[0m00:01\u001b[0m00:01\u001b[0m\n",
      "\u001b[?25hInstalling collected packages: xgboost\n",
      "Successfully installed xgboost-3.0.2\n",
      "\u001b[33mWARNING: Running pip as the 'root' user can result in broken permissions and conflicting behaviour with the system package manager, possibly rendering your system unusable. It is recommended to use a virtual environment instead: https://pip.pypa.io/warnings/venv. Use the --root-user-action option if you know what you are doing and want to suppress this warning.\u001b[0m\u001b[33m\n",
      "\u001b[0mCollecting scikit-learn\n",
      "  Downloading scikit_learn-1.7.1-cp311-cp311-manylinux2014_x86_64.manylinux_2_17_x86_64.whl.metadata (11 kB)\n",
      "Downloading scikit_learn-1.7.1-cp311-cp311-manylinux2014_x86_64.manylinux_2_17_x86_64.whl (9.7 MB)\n",
      "\u001b[2K   \u001b[90m━━━━━━━━━━━━━━━━━━━━━━━━━━━━━━━━━━━━━━━━\u001b[0m \u001b[32m9.7/9.7 MB\u001b[0m \u001b[31m11.7 MB/s\u001b[0m eta \u001b[36m0:00:00\u001b[0m00:01\u001b[0m00:01\u001b[0m\n",
      "\u001b[?25hInstalling collected packages: scikit-learn\n",
      "Successfully installed scikit-learn-1.7.1\n",
      "\u001b[33mWARNING: Running pip as the 'root' user can result in broken permissions and conflicting behaviour with the system package manager, possibly rendering your system unusable. It is recommended to use a virtual environment instead: https://pip.pypa.io/warnings/venv. Use the --root-user-action option if you know what you are doing and want to suppress this warning.\u001b[0m\u001b[33m\n",
      "\u001b[0mCollecting skope-rules\n",
      "  Downloading skope_rules-1.0.1-py3-none-any.whl.metadata (463 bytes)\n",
      "Downloading skope_rules-1.0.1-py3-none-any.whl (14 kB)\n",
      "Installing collected packages: skope-rules\n",
      "Successfully installed skope-rules-1.0.1\n",
      "\u001b[33mWARNING: Running pip as the 'root' user can result in broken permissions and conflicting behaviour with the system package manager, possibly rendering your system unusable. It is recommended to use a virtual environment instead: https://pip.pypa.io/warnings/venv. Use the --root-user-action option if you know what you are doing and want to suppress this warning.\u001b[0m\u001b[33m\n",
      "\u001b[0mCollecting lightfm\n",
      "  Downloading lightfm-1.17.tar.gz (316 kB)\n",
      "  Preparing metadata (setup.py) ... \u001b[?25ldone\n",
      "\u001b[?25hBuilding wheels for collected packages: lightfm\n",
      "\u001b[33m  DEPRECATION: Building 'lightfm' using the legacy setup.py bdist_wheel mechanism, which will be removed in a future version. pip 25.3 will enforce this behaviour change. A possible replacement is to use the standardized build interface by setting the `--use-pep517` option, (possibly combined with `--no-build-isolation`), or adding a `pyproject.toml` file to the source tree of 'lightfm'. Discussion can be found at https://github.com/pypa/pip/issues/6334\u001b[0m\u001b[33m\n",
      "\u001b[0m  Building wheel for lightfm (setup.py) ... \u001b[?25ldone\n",
      "\u001b[?25h  Created wheel for lightfm: filename=lightfm-1.17-cp311-cp311-linux_x86_64.whl size=946109 sha256=e74dbe01c65105e6bfcacce9d1460780eba4f6aee6c2d986204f6cd565bdf9de\n",
      "  Stored in directory: /root/.cache/pip/wheels/b9/0d/8a/0729d2e6e3ca2a898ba55201f905da7db3f838a33df5b3fcdd\n",
      "Successfully built lightfm\n",
      "Installing collected packages: lightfm\n",
      "Successfully installed lightfm-1.17\n",
      "\u001b[33mWARNING: Running pip as the 'root' user can result in broken permissions and conflicting behaviour with the system package manager, possibly rendering your system unusable. It is recommended to use a virtual environment instead: https://pip.pypa.io/warnings/venv. Use the --root-user-action option if you know what you are doing and want to suppress this warning.\u001b[0m\u001b[33m\n",
      "\u001b[0mCollecting tslearn\n",
      "  Downloading tslearn-0.6.4-py3-none-any.whl.metadata (15 kB)\n",
      "Downloading tslearn-0.6.4-py3-none-any.whl (389 kB)\n",
      "Installing collected packages: tslearn\n",
      "Successfully installed tslearn-0.6.4\n",
      "\u001b[33mWARNING: Running pip as the 'root' user can result in broken permissions and conflicting behaviour with the system package manager, possibly rendering your system unusable. It is recommended to use a virtual environment instead: https://pip.pypa.io/warnings/venv. Use the --root-user-action option if you know what you are doing and want to suppress this warning.\u001b[0m\u001b[33m\n",
      "\u001b[0m"
     ]
    }
   ],
   "source": [
    "! pip download --no-deps catboost\n",
    "! pip download --no-deps lightgbm\n",
    "! pip download --no-deps xgboost\n",
    "! pip download --no-deps scikit-learn\n",
    "! pip download --no-deps skope-rules\n",
    "! pip download --no-deps lightfm\n",
    "! pip download --no-deps tslearn"
   ]
  },
  {
   "cell_type": "code",
   "execution_count": 16,
   "id": "793751de-414d-4734-9dfa-991d9badfd9f",
   "metadata": {},
   "outputs": [
    {
     "name": "stdout",
     "output_type": "stream",
     "text": [
      "Requirement already satisfied: threadpoolctl in /usr/local/lib/python3.11/site-packages (3.6.0)\n",
      "\u001b[33mWARNING: Running pip as the 'root' user can result in broken permissions and conflicting behaviour with the system package manager, possibly rendering your system unusable. It is recommended to use a virtual environment instead: https://pip.pypa.io/warnings/venv. Use the --root-user-action option if you know what you are doing and want to suppress this warning.\u001b[0m\u001b[33m\n",
      "\u001b[0mCollecting numba\n",
      "  Downloading numba-0.61.2-cp311-cp311-manylinux2014_x86_64.manylinux_2_17_x86_64.whl.metadata (2.8 kB)\n",
      "Downloading numba-0.61.2-cp311-cp311-manylinux2014_x86_64.manylinux_2_17_x86_64.whl (3.8 MB)\n",
      "\u001b[2K   \u001b[90m━━━━━━━━━━━━━━━━━━━━━━━━━━━━━━━━━━━━━━━━\u001b[0m \u001b[32m3.8/3.8 MB\u001b[0m \u001b[31m8.3 MB/s\u001b[0m eta \u001b[36m0:00:00\u001b[0ma \u001b[36m0:00:01\u001b[0m\n",
      "\u001b[?25hInstalling collected packages: numba\n",
      "Successfully installed numba-0.61.2\n",
      "\u001b[33mWARNING: Running pip as the 'root' user can result in broken permissions and conflicting behaviour with the system package manager, possibly rendering your system unusable. It is recommended to use a virtual environment instead: https://pip.pypa.io/warnings/venv. Use the --root-user-action option if you know what you are doing and want to suppress this warning.\u001b[0m\u001b[33m\n",
      "\u001b[0m"
     ]
    }
   ],
   "source": [
    "! pip install --no-deps threadpoolctl\n",
    "! pip install --no-deps numba"
   ]
  },
  {
   "cell_type": "code",
   "execution_count": 17,
   "id": "0dbcc7ba-9f95-4aeb-92cd-7c0144652fde",
   "metadata": {},
   "outputs": [
    {
     "ename": "ModuleNotFoundError",
     "evalue": "No module named 'llvmlite'",
     "output_type": "error",
     "traceback": [
      "\u001b[0;31m---------------------------------------------------------------------------\u001b[0m",
      "\u001b[0;31mModuleNotFoundError\u001b[0m                       Traceback (most recent call last)",
      "Cell \u001b[0;32mIn[17], line 50\u001b[0m\n\u001b[1;32m     47\u001b[0m \u001b[38;5;28;01mfrom\u001b[39;00m \u001b[38;5;21;01mlightfm\u001b[39;00m\u001b[38;5;21;01m.\u001b[39;00m\u001b[38;5;21;01mdata\u001b[39;00m \u001b[38;5;28;01mimport\u001b[39;00m Dataset\n\u001b[1;32m     48\u001b[0m \u001b[38;5;28;01mfrom\u001b[39;00m \u001b[38;5;21;01mlightfm\u001b[39;00m\u001b[38;5;21;01m.\u001b[39;00m\u001b[38;5;21;01mevaluation\u001b[39;00m \u001b[38;5;28;01mimport\u001b[39;00m auc_score, precision_at_k, recall_at_k\n\u001b[0;32m---> 50\u001b[0m \u001b[38;5;28;01mfrom\u001b[39;00m \u001b[38;5;21;01mtslearn\u001b[39;00m\u001b[38;5;21;01m.\u001b[39;00m\u001b[38;5;21;01mclustering\u001b[39;00m \u001b[38;5;28;01mimport\u001b[39;00m KShape, TimeSeriesKMeans\n\u001b[1;32m     51\u001b[0m \u001b[38;5;28;01mfrom\u001b[39;00m \u001b[38;5;21;01mtslearn\u001b[39;00m\u001b[38;5;21;01m.\u001b[39;00m\u001b[38;5;21;01mgenerators\u001b[39;00m \u001b[38;5;28;01mimport\u001b[39;00m random_walks\n\u001b[1;32m     52\u001b[0m \u001b[38;5;28;01mfrom\u001b[39;00m \u001b[38;5;21;01mtslearn\u001b[39;00m\u001b[38;5;21;01m.\u001b[39;00m\u001b[38;5;21;01mmetrics\u001b[39;00m \u001b[38;5;28;01mimport\u001b[39;00m cdist_dtw\n",
      "File \u001b[0;32m/usr/local/lib/python3.11/site-packages/tslearn/clustering/__init__.py:8\u001b[0m\n\u001b[1;32m      1\u001b[0m \u001b[38;5;124;03m\"\"\"\u001b[39;00m\n\u001b[1;32m      2\u001b[0m \u001b[38;5;124;03mThe :mod:`tslearn.clustering` module gathers time series specific clustering\u001b[39;00m\n\u001b[1;32m      3\u001b[0m \u001b[38;5;124;03malgorithms.\u001b[39;00m\n\u001b[0;32m   (...)\u001b[0m\n\u001b[1;32m      6\u001b[0m \u001b[38;5;124;03m details.\u001b[39;00m\n\u001b[1;32m      7\u001b[0m \u001b[38;5;124;03m\"\"\"\u001b[39;00m\n\u001b[0;32m----> 8\u001b[0m \u001b[38;5;28;01mfrom\u001b[39;00m \u001b[38;5;21;01m.\u001b[39;00m\u001b[38;5;21;01mkshape\u001b[39;00m \u001b[38;5;28;01mimport\u001b[39;00m KShape\n\u001b[1;32m      9\u001b[0m \u001b[38;5;28;01mfrom\u001b[39;00m \u001b[38;5;21;01m.\u001b[39;00m\u001b[38;5;21;01mutils\u001b[39;00m \u001b[38;5;28;01mimport\u001b[39;00m (EmptyClusterError, silhouette_score,\n\u001b[1;32m     10\u001b[0m                     TimeSeriesCentroidBasedClusteringMixin)\n\u001b[1;32m     11\u001b[0m \u001b[38;5;28;01mfrom\u001b[39;00m \u001b[38;5;21;01m.\u001b[39;00m\u001b[38;5;21;01mkmeans\u001b[39;00m \u001b[38;5;28;01mimport\u001b[39;00m (TimeSeriesKMeans, KernelKMeans)\n",
      "File \u001b[0;32m/usr/local/lib/python3.11/site-packages/tslearn/clustering/kshape.py:9\u001b[0m\n\u001b[1;32m      7\u001b[0m \u001b[38;5;28;01mfrom\u001b[39;00m \u001b[38;5;21;01mtslearn\u001b[39;00m\u001b[38;5;21;01m.\u001b[39;00m\u001b[38;5;21;01mpreprocessing\u001b[39;00m \u001b[38;5;28;01mimport\u001b[39;00m TimeSeriesScalerMeanVariance\n\u001b[1;32m      8\u001b[0m \u001b[38;5;28;01mfrom\u001b[39;00m \u001b[38;5;21;01mtslearn\u001b[39;00m\u001b[38;5;21;01m.\u001b[39;00m\u001b[38;5;21;01mutils\u001b[39;00m \u001b[38;5;28;01mimport\u001b[39;00m to_time_series_dataset, check_dims, check_array\n\u001b[0;32m----> 9\u001b[0m \u001b[38;5;28;01mfrom\u001b[39;00m \u001b[38;5;21;01mtslearn\u001b[39;00m\u001b[38;5;21;01m.\u001b[39;00m\u001b[38;5;21;01mmetrics\u001b[39;00m \u001b[38;5;28;01mimport\u001b[39;00m cdist_normalized_cc, y_shifted_sbd_vec\n\u001b[1;32m     10\u001b[0m \u001b[38;5;28;01mfrom\u001b[39;00m \u001b[38;5;21;01mtslearn\u001b[39;00m\u001b[38;5;21;01m.\u001b[39;00m\u001b[38;5;21;01mbases\u001b[39;00m \u001b[38;5;28;01mimport\u001b[39;00m BaseModelPackage, TimeSeriesBaseEstimator\n\u001b[1;32m     12\u001b[0m \u001b[38;5;28;01mfrom\u001b[39;00m \u001b[38;5;21;01m.\u001b[39;00m\u001b[38;5;21;01mutils\u001b[39;00m \u001b[38;5;28;01mimport\u001b[39;00m (TimeSeriesCentroidBasedClusteringMixin,\n\u001b[1;32m     13\u001b[0m                     _check_no_empty_cluster, _compute_inertia,\n\u001b[1;32m     14\u001b[0m                     _check_initial_guess, EmptyClusterError)\n",
      "File \u001b[0;32m/usr/local/lib/python3.11/site-packages/tslearn/metrics/__init__.py:8\u001b[0m\n\u001b[1;32m      1\u001b[0m \u001b[38;5;124;03m\"\"\"\u001b[39;00m\n\u001b[1;32m      2\u001b[0m \u001b[38;5;124;03mThe :mod:`tslearn.metrics` module delivers time-series specific metrics to be \u001b[39;00m\n\u001b[1;32m      3\u001b[0m \u001b[38;5;124;03mused at the core of machine learning algorithms.\u001b[39;00m\n\u001b[0;32m   (...)\u001b[0m\n\u001b[1;32m      6\u001b[0m \u001b[38;5;124;03mfurther details.\u001b[39;00m\n\u001b[1;32m      7\u001b[0m \u001b[38;5;124;03m\"\"\"\u001b[39;00m\n\u001b[0;32m----> 8\u001b[0m \u001b[38;5;28;01mfrom\u001b[39;00m \u001b[38;5;21;01m.\u001b[39;00m\u001b[38;5;21;01mdtw_variants\u001b[39;00m \u001b[38;5;28;01mimport\u001b[39;00m (dtw, dtw_limited_warping_length,\n\u001b[1;32m      9\u001b[0m                            dtw_path_limited_warping_length, subsequence_path,\n\u001b[1;32m     10\u001b[0m                            subsequence_cost_matrix,\n\u001b[1;32m     11\u001b[0m                            dtw_path, dtw_path_from_metric,\n\u001b[1;32m     12\u001b[0m                            dtw_subsequence_path, cdist_dtw,\n\u001b[1;32m     13\u001b[0m                            GLOBAL_CONSTRAINT_CODE,\n\u001b[1;32m     14\u001b[0m                            lb_envelope, lb_keogh,\n\u001b[1;32m     15\u001b[0m                            sakoe_chiba_mask, itakura_mask,\n\u001b[1;32m     16\u001b[0m                            lcss, lcss_path, lcss_path_from_metric)\n\u001b[1;32m     17\u001b[0m \u001b[38;5;28;01mfrom\u001b[39;00m \u001b[38;5;21;01m.\u001b[39;00m\u001b[38;5;21;01mctw\u001b[39;00m \u001b[38;5;28;01mimport\u001b[39;00m ctw_path, ctw, cdist_ctw\n\u001b[1;32m     18\u001b[0m \u001b[38;5;28;01mfrom\u001b[39;00m \u001b[38;5;21;01m.\u001b[39;00m\u001b[38;5;21;01msax\u001b[39;00m \u001b[38;5;28;01mimport\u001b[39;00m cdist_sax\n",
      "File \u001b[0;32m/usr/local/lib/python3.11/site-packages/tslearn/metrics/dtw_variants.py:4\u001b[0m\n\u001b[1;32m      1\u001b[0m \u001b[38;5;28;01mimport\u001b[39;00m \u001b[38;5;21;01mwarnings\u001b[39;00m\n\u001b[1;32m      3\u001b[0m \u001b[38;5;28;01mimport\u001b[39;00m \u001b[38;5;21;01mnumpy\u001b[39;00m\n\u001b[0;32m----> 4\u001b[0m \u001b[38;5;28;01mfrom\u001b[39;00m \u001b[38;5;21;01mnumba\u001b[39;00m \u001b[38;5;28;01mimport\u001b[39;00m njit, prange\n\u001b[1;32m      6\u001b[0m \u001b[38;5;28;01mfrom\u001b[39;00m \u001b[38;5;21;01mtslearn\u001b[39;00m\u001b[38;5;21;01m.\u001b[39;00m\u001b[38;5;21;01mbackend\u001b[39;00m \u001b[38;5;28;01mimport\u001b[39;00m instantiate_backend\n\u001b[1;32m      7\u001b[0m \u001b[38;5;28;01mfrom\u001b[39;00m \u001b[38;5;21;01mtslearn\u001b[39;00m\u001b[38;5;21;01m.\u001b[39;00m\u001b[38;5;21;01mutils\u001b[39;00m \u001b[38;5;28;01mimport\u001b[39;00m to_time_series\n",
      "File \u001b[0;32m/usr/local/lib/python3.11/site-packages/numba/__init__.py:73\u001b[0m\n\u001b[1;32m     69\u001b[0m \u001b[38;5;28;01mdel\u001b[39;00m get_versions\n\u001b[1;32m     70\u001b[0m \u001b[38;5;28;01mdel\u001b[39;00m generate_version_info\n\u001b[0;32m---> 73\u001b[0m \u001b[38;5;28;01mfrom\u001b[39;00m \u001b[38;5;21;01mnumba\u001b[39;00m\u001b[38;5;21;01m.\u001b[39;00m\u001b[38;5;21;01mcore\u001b[39;00m \u001b[38;5;28;01mimport\u001b[39;00m config\n\u001b[1;32m     74\u001b[0m \u001b[38;5;28;01mfrom\u001b[39;00m \u001b[38;5;21;01mnumba\u001b[39;00m\u001b[38;5;21;01m.\u001b[39;00m\u001b[38;5;21;01mcore\u001b[39;00m \u001b[38;5;28;01mimport\u001b[39;00m types, errors\n\u001b[1;32m     76\u001b[0m \u001b[38;5;66;03m# Re-export typeof\u001b[39;00m\n",
      "File \u001b[0;32m/usr/local/lib/python3.11/site-packages/numba/core/config.py:17\u001b[0m\n\u001b[1;32m     13\u001b[0m \u001b[38;5;28;01mexcept\u001b[39;00m \u001b[38;5;167;01mImportError\u001b[39;00m:\n\u001b[1;32m     14\u001b[0m     _HAVE_YAML \u001b[38;5;241m=\u001b[39m \u001b[38;5;28;01mFalse\u001b[39;00m\n\u001b[0;32m---> 17\u001b[0m \u001b[38;5;28;01mimport\u001b[39;00m \u001b[38;5;21;01mllvmlite\u001b[39;00m\u001b[38;5;21;01m.\u001b[39;00m\u001b[38;5;21;01mbinding\u001b[39;00m \u001b[38;5;28;01mas\u001b[39;00m \u001b[38;5;21;01mll\u001b[39;00m\n\u001b[1;32m     20\u001b[0m IS_WIN32 \u001b[38;5;241m=\u001b[39m sys\u001b[38;5;241m.\u001b[39mplatform\u001b[38;5;241m.\u001b[39mstartswith(\u001b[38;5;124m'\u001b[39m\u001b[38;5;124mwin32\u001b[39m\u001b[38;5;124m'\u001b[39m)\n\u001b[1;32m     21\u001b[0m IS_OSX \u001b[38;5;241m=\u001b[39m sys\u001b[38;5;241m.\u001b[39mplatform\u001b[38;5;241m.\u001b[39mstartswith(\u001b[38;5;124m'\u001b[39m\u001b[38;5;124mdarwin\u001b[39m\u001b[38;5;124m'\u001b[39m)\n",
      "\u001b[0;31mModuleNotFoundError\u001b[0m: No module named 'llvmlite'"
     ]
    }
   ],
   "source": [
    "import catboost\n",
    "from catboost import CatBoostClassifier\n",
    "\n",
    "import lightgbm\n",
    "from lightgbm import LGBMClassifier, plot_importance\n",
    "\n",
    "import xgboost\n",
    "from xgboost import XGBClassifier\n",
    "\n",
    "from sklearn import cluster\n",
    "from sklearn import datasets, linear_model, preprocessing\n",
    "from sklearn.base import clone\n",
    "from sklearn.cluster import DBSCAN, KMeans\n",
    "from sklearn.decomposition import PCA\n",
    "from sklearn.ensemble import ExtraTreesClassifier, RandomForestClassifier, RandomForestRegressor\n",
    "from sklearn.feature_extraction.text import CountVectorizer\n",
    "from sklearn.linear_model import LogisticRegression\n",
    "from sklearn.metrics import accuracy_score, f1_score, precision_score, recall_score, auc, roc_curve\n",
    "from sklearn.metrics import confusion_matrix, roc_auc_score, precision_recall_curve, make_scorer\n",
    "from sklearn.metrics import mean_absolute_error, mean_squared_error, r2_score, classification_report\n",
    "from sklearn.metrics.pairwise import cosine_similarity\n",
    "from sklearn.mixture import GaussianMixture\n",
    "from sklearn.model_selection import GridSearchCV, RandomizedSearchCV, ShuffleSplit, train_test_split, cross_val_predict\n",
    "from sklearn.neighbors import NearestNeighbors\n",
    "from sklearn.pipeline import make_pipeline\n",
    "from sklearn.preprocessing import MinMaxScaler, LabelEncoder, label_binarize, StandardScaler\n",
    "from sklearn.utils import gen_batches\n",
    "\n",
    "import collections.abc\n",
    "import six\n",
    "import sklearn\n",
    "collections.Iterable = collections.abc.Iterable\n",
    "sklearn.externals.six = six\n",
    "from skrules import SkopeRules\n",
    "\"\"\"cannot import name 'Iterable' from 'collections' (/usr/local/lib/python3.11/collections/__init__.py)\n",
    "=>\n",
    "import collections.abc\n",
    "import six\n",
    "import sklearn\n",
    "collections.Iterable = collections.abc.Iterable\n",
    "sklearn.externals.six = six\n",
    "from skrules import SkopeRules\n",
    "\"\"\"\n",
    "\n",
    "from lightfm import LightFM\n",
    "from lightfm.cross_validation import random_train_test_split\n",
    "from lightfm.data import Dataset\n",
    "from lightfm.evaluation import auc_score, precision_at_k, recall_at_k\n",
    "\n",
    "from tslearn.clustering import KShape, TimeSeriesKMeans\n",
    "from tslearn.generators import random_walks\n",
    "from tslearn.metrics import cdist_dtw\n",
    "from tslearn.preprocessing import TimeSeriesScalerMeanVariance\n",
    "from tslearn.utils import to_time_series, to_time_series_dataset"
   ]
  },
  {
   "cell_type": "code",
   "execution_count": null,
   "id": "54bc36ad-61f6-49d3-80e6-7a6f4a297caf",
   "metadata": {},
   "outputs": [],
   "source": []
  },
  {
   "cell_type": "code",
   "execution_count": null,
   "id": "d9f4a33c-f7e4-475a-be69-1b2978b4b81b",
   "metadata": {},
   "outputs": [],
   "source": [
    "from fairseq import models, utils, hub_utils\n",
    "from fairseq.criterions import FairseqCriterion, register_criterion\n",
    "from fairseq.data import Dictionary\n",
    "from fairseq.data.encoders import register_bpe\n",
    "from fairseq.data.encoders.gpt2_bpe import get_encoder\n",
    "from fairseq.models import FairseqEncoder\n",
    "from fairseq.models.roberta import RobertaClassificationHead, RobertaLMHead, RobertaHubInterface, RobertaModel\n",
    "from fairseq.models.roberta.hub_interface import RobertaHubInterface\n",
    "from fairseq.models.transformer import TransformerModel\n",
    "from fairseq.modules import TransformerSentenceEncoder\n",
    "from fairseq.modules.transformer_sentence_encoder import init_bert_params\n",
    "from fairseq.tasks import FairseqTask, register_task\n",
    "from fairseq.tasks.audio_pretraining import AudioPretrainingTask\n",
    "\n",
    "\"\"\"\n",
    "ValueError: mutable default <class 'fairseq.dataclass.configs.CommonConfig'> for field common is not allowed: use default_factory\n",
    "\"\"\""
   ]
  },
  {
   "cell_type": "code",
   "execution_count": 9,
   "id": "7ab6d493-0483-460e-91c1-4d274ce11c27",
   "metadata": {},
   "outputs": [
    {
     "name": "stdout",
     "output_type": "stream",
     "text": [
      "Collecting scipy\n",
      "  Downloading scipy-1.16.0-cp311-cp311-manylinux2014_x86_64.manylinux_2_17_x86_64.whl.metadata (61 kB)\n",
      "Downloading scipy-1.16.0-cp311-cp311-manylinux2014_x86_64.manylinux_2_17_x86_64.whl (35.3 MB)\n",
      "\u001b[2K   \u001b[90m━━━━━━━━━━━━━━━━━━━━━━━━━━━━━━━━━━━━━━━━\u001b[0m \u001b[32m35.3/35.3 MB\u001b[0m \u001b[31m11.7 MB/s\u001b[0m eta \u001b[36m0:00:00\u001b[0m00:01\u001b[0m00:01\u001b[0m\n",
      "\u001b[?25hInstalling collected packages: scipy\n",
      "Successfully installed scipy-1.16.0\n",
      "\u001b[33mWARNING: Running pip as the 'root' user can result in broken permissions and conflicting behaviour with the system package manager, possibly rendering your system unusable. It is recommended to use a virtual environment instead: https://pip.pypa.io/warnings/venv. Use the --root-user-action option if you know what you are doing and want to suppress this warning.\u001b[0m\u001b[33m\n",
      "\u001b[0m"
     ]
    }
   ],
   "source": [
    "! pip install --no-deps scipy"
   ]
  },
  {
   "cell_type": "code",
   "execution_count": 10,
   "id": "1abf38a0-1861-482f-b7fe-ff97fa96345f",
   "metadata": {},
   "outputs": [],
   "source": [
    "import scipy\n",
    "import scipy.stats\n",
    "\n",
    "from scipy.cluster.hierarchy import linkage, fcluster, dendrogram, to_tree, cut_tree\n",
    "from scipy.signal import lfilter\n",
    "from scipy.sparse import coo_matrix, hstack, vstack\n",
    "# from scipy.spatial import distance, rel_entr => (underline)\n",
    "from scipy.spatial import distance\n",
    "from scipy.special import rel_entr\n",
    "\"\"\"\n",
    "cannot import name 'rel_entr' from 'scipy.spatial' (/usr/local/lib/python3.11/site-packages/scipy/spatial/__init__.py)\n",
    "\n",
    "\"\"\"\n",
    "\n",
    "from scipy.stats import skew, zmap, zscore\n",
    "from scipy import sparse, spatial, stats"
   ]
  },
  {
   "cell_type": "code",
   "execution_count": null,
   "id": "a9af3e2a-69a7-4d5c-a869-b20a201c2d95",
   "metadata": {},
   "outputs": [],
   "source": [
    "! pip install --no-deps statsmodels\n"
   ]
  },
  {
   "cell_type": "code",
   "execution_count": null,
   "id": "381c81b5-efa5-4e00-a93d-8f0ccad27604",
   "metadata": {},
   "outputs": [],
   "source": [
    "from statsmodels.graphics.tsaplots import plot_acf, plot_pacf\n",
    "from statsmodels.tsa import arima_model\n",
    "from statsmodels.tsa.stattools import acf, pacf, adfuller"
   ]
  },
  {
   "cell_type": "markdown",
   "id": "1b42c255-6a0e-4934-a2f3-c2a6e7529be4",
   "metadata": {},
   "source": [
    "### Computer Vision"
   ]
  },
  {
   "cell_type": "markdown",
   "id": "101d017c-6306-4570-ac82-a677ee1e3dcc",
   "metadata": {},
   "source": [
    "#### Image"
   ]
  },
  {
   "cell_type": "code",
   "execution_count": null,
   "id": "8a8bc494-5764-4a41-8415-bdc43f8b8341",
   "metadata": {},
   "outputs": [],
   "source": [
    "! pip install --no-deps scikit-image"
   ]
  },
  {
   "cell_type": "code",
   "execution_count": null,
   "id": "6940df3d-6b41-40b1-8720-ba56bca88c7a",
   "metadata": {},
   "outputs": [],
   "source": [
    "from skimage import io"
   ]
  },
  {
   "cell_type": "code",
   "execution_count": null,
   "id": "bcbc76e7-09df-4d0d-ab71-090556c287dd",
   "metadata": {},
   "outputs": [],
   "source": [
    "! pip install --no-deps opencv-python"
   ]
  },
  {
   "cell_type": "code",
   "execution_count": null,
   "id": "ff40bbf2-1ba2-4579-bedc-a2ac17a56162",
   "metadata": {},
   "outputs": [],
   "source": [
    "import cv2"
   ]
  },
  {
   "cell_type": "markdown",
   "id": "897512c1-fe20-4af9-94d7-070aab6bf546",
   "metadata": {},
   "source": [
    "#### Speech"
   ]
  },
  {
   "cell_type": "code",
   "execution_count": null,
   "id": "55e01f04-7762-4ac1-aa36-bcbf0eb82759",
   "metadata": {
    "scrolled": true
   },
   "outputs": [],
   "source": [
    "! pip install --no-deps soundfile\n",
    "! pip install --no-deps epitran\n",
    "! pip install --no-deps librosa\n",
    "! pip install --no-deps pydub\n",
    "! pip install --no-deps panphon "
   ]
  },
  {
   "cell_type": "code",
   "execution_count": null,
   "id": "9cdc475b-dfeb-42f2-804f-2acae5e9f310",
   "metadata": {},
   "outputs": [],
   "source": [
    "import soundfile\n",
    "\n",
    "import epitran\n",
    "\n",
    "import librosa\n",
    "import librosa.effects\n",
    "import librosa.feature\n",
    "\n",
    "from pydub import AudioSegment"
   ]
  },
  {
   "cell_type": "code",
   "execution_count": null,
   "id": "14c8be92-08e6-4e0e-b19a-3ad8a3e185fb",
   "metadata": {},
   "outputs": [],
   "source": [
    "! pip install --no-deps wav2letter\n",
    "\n",
    "from wav2letter.criterion import CpuViterbiPath, get_data_ptr_as_bytes\n",
    "from wav2letter.decoder import CriterionType\n",
    "\n",
    "\"\"\"\n",
    "ERROR: Could not find a version that satisfies the requirement wav2letter (from versions: none)\n",
    "ERROR: No matching distribution found for wav2letter\n",
    "\"\"\""
   ]
  },
  {
   "cell_type": "code",
   "execution_count": null,
   "id": "253bd2c7-c469-4c51-b58b-a2e07435b6ac",
   "metadata": {},
   "outputs": [],
   "source": []
  },
  {
   "cell_type": "markdown",
   "id": "927b23f9-0636-44a1-9c0c-b50f90c41494",
   "metadata": {},
   "source": [
    "### NLP"
   ]
  },
  {
   "cell_type": "code",
   "execution_count": 63,
   "id": "48daf590-fc11-401f-b1d6-7f5243af32bb",
   "metadata": {},
   "outputs": [
    {
     "name": "stdout",
     "output_type": "stream",
     "text": [
      "Requirement already satisfied: g2p_en in /usr/local/lib/python3.11/site-packages (2.1.0)\n",
      "\u001b[33mWARNING: Running pip as the 'root' user can result in broken permissions and conflicting behaviour with the system package manager, possibly rendering your system unusable. It is recommended to use a virtual environment instead: https://pip.pypa.io/warnings/venv. Use the --root-user-action option if you know what you are doing and want to suppress this warning.\u001b[0m\u001b[33m\n",
      "\u001b[0mRequirement already satisfied: nltk in /usr/local/lib/python3.11/site-packages (3.9.1)\n",
      "\u001b[33mWARNING: Running pip as the 'root' user can result in broken permissions and conflicting behaviour with the system package manager, possibly rendering your system unusable. It is recommended to use a virtual environment instead: https://pip.pypa.io/warnings/venv. Use the --root-user-action option if you know what you are doing and want to suppress this warning.\u001b[0m\u001b[33m\n",
      "\u001b[0mRequirement already satisfied: g2pk in /usr/local/lib/python3.11/site-packages (0.9.4)\n",
      "\u001b[33mWARNING: Running pip as the 'root' user can result in broken permissions and conflicting behaviour with the system package manager, possibly rendering your system unusable. It is recommended to use a virtual environment instead: https://pip.pypa.io/warnings/venv. Use the --root-user-action option if you know what you are doing and want to suppress this warning.\u001b[0m\u001b[33m\n",
      "\u001b[0mRequirement already satisfied: kss in /usr/local/lib/python3.11/site-packages (6.0.4)\n",
      "\u001b[33mWARNING: Running pip as the 'root' user can result in broken permissions and conflicting behaviour with the system package manager, possibly rendering your system unusable. It is recommended to use a virtual environment instead: https://pip.pypa.io/warnings/venv. Use the --root-user-action option if you know what you are doing and want to suppress this warning.\u001b[0m\u001b[33m\n",
      "\u001b[0m\u001b[33mWARNING: The index url \"gnore-installed\" seems invalid, please provide a scheme.\u001b[0m\u001b[33m\n",
      "\u001b[0mLooking in indexes: gnore-installed\n",
      "Requirement already satisfied: konlpy in /usr/local/lib/python3.11/site-packages (0.6.0)\n",
      "\u001b[33mWARNING: Running pip as the 'root' user can result in broken permissions and conflicting behaviour with the system package manager, possibly rendering your system unusable. It is recommended to use a virtual environment instead: https://pip.pypa.io/warnings/venv. Use the --root-user-action option if you know what you are doing and want to suppress this warning.\u001b[0m\u001b[33m\n",
      "\u001b[0mRequirement already satisfied: ko_pron in /usr/local/lib/python3.11/site-packages (1.3)\n",
      "\u001b[33mWARNING: Running pip as the 'root' user can result in broken permissions and conflicting behaviour with the system package manager, possibly rendering your system unusable. It is recommended to use a virtual environment instead: https://pip.pypa.io/warnings/venv. Use the --root-user-action option if you know what you are doing and want to suppress this warning.\u001b[0m\u001b[33m\n",
      "\u001b[0mRequirement already satisfied: koparadigm in /usr/local/lib/python3.11/site-packages (0.10.0)\n",
      "\u001b[33mWARNING: Running pip as the 'root' user can result in broken permissions and conflicting behaviour with the system package manager, possibly rendering your system unusable. It is recommended to use a virtual environment instead: https://pip.pypa.io/warnings/venv. Use the --root-user-action option if you know what you are doing and want to suppress this warning.\u001b[0m\u001b[33m\n",
      "\u001b[0mRequirement already satisfied: fasttext in /usr/local/lib/python3.11/site-packages (0.9.3)\n",
      "\u001b[33mWARNING: Running pip as the 'root' user can result in broken permissions and conflicting behaviour with the system package manager, possibly rendering your system unusable. It is recommended to use a virtual environment instead: https://pip.pypa.io/warnings/venv. Use the --root-user-action option if you know what you are doing and want to suppress this warning.\u001b[0m\u001b[33m\n",
      "\u001b[0mRequirement already satisfied: word2word in /usr/local/lib/python3.11/site-packages (1.0.0)\n",
      "\u001b[33mWARNING: Running pip as the 'root' user can result in broken permissions and conflicting behaviour with the system package manager, possibly rendering your system unusable. It is recommended to use a virtual environment instead: https://pip.pypa.io/warnings/venv. Use the --root-user-action option if you know what you are doing and want to suppress this warning.\u001b[0m\u001b[33m\n",
      "\u001b[0mRequirement already satisfied: sentence_transformers in /usr/local/lib/python3.11/site-packages (5.0.0)\n",
      "\u001b[33mWARNING: Running pip as the 'root' user can result in broken permissions and conflicting behaviour with the system package manager, possibly rendering your system unusable. It is recommended to use a virtual environment instead: https://pip.pypa.io/warnings/venv. Use the --root-user-action option if you know what you are doing and want to suppress this warning.\u001b[0m\u001b[33m\n",
      "\u001b[0m"
     ]
    }
   ],
   "source": [
    "! pip install --no-deps g2p_en\n",
    "! pip install --no-deps nltk\n",
    "! pip install --no-deps g2pk\n",
    "! pip install --no-deps kss\n",
    "! pip install --no-deps konlpy\n",
    "! pip install --no-deps ko_pron\n",
    "! pip install --no-deps koparadigm\n",
    "! pip install --no-deps fasttext\n",
    "! pip install --no-deps word2word\n",
    "! pip install --no-deps sentence_transformers"
   ]
  },
  {
   "cell_type": "code",
   "execution_count": 69,
   "id": "c888606f-758c-4ce8-8ad6-701bc2d081fc",
   "metadata": {},
   "outputs": [
    {
     "ename": "ModuleNotFoundError",
     "evalue": "No module named 'tossi'",
     "output_type": "error",
     "traceback": [
      "\u001b[0;31m---------------------------------------------------------------------------\u001b[0m",
      "\u001b[0;31mModuleNotFoundError\u001b[0m                       Traceback (most recent call last)",
      "Cell \u001b[0;32mIn[69], line 13\u001b[0m\n\u001b[1;32m      9\u001b[0m \u001b[38;5;28;01mfrom\u001b[39;00m \u001b[38;5;21;01mg2pk\u001b[39;00m \u001b[38;5;28;01mimport\u001b[39;00m G2p\n\u001b[1;32m     11\u001b[0m \u001b[38;5;28;01mfrom\u001b[39;00m \u001b[38;5;21;01mkonlpy\u001b[39;00m\u001b[38;5;21;01m.\u001b[39;00m\u001b[38;5;21;01mtag\u001b[39;00m \u001b[38;5;28;01mimport\u001b[39;00m Mecab\n\u001b[0;32m---> 13\u001b[0m \u001b[38;5;28;01mfrom\u001b[39;00m \u001b[38;5;21;01mkss\u001b[39;00m \u001b[38;5;28;01mimport\u001b[39;00m split_sentences\n\u001b[1;32m     15\u001b[0m \u001b[38;5;66;03m# all\u001b[39;00m\n\u001b[1;32m     16\u001b[0m \u001b[38;5;28;01mimport\u001b[39;00m \u001b[38;5;21;01mfasttext\u001b[39;00m\n",
      "File \u001b[0;32m/usr/local/lib/python3.11/site-packages/kss/__init__.py:4\u001b[0m\n\u001b[1;32m      1\u001b[0m \u001b[38;5;66;03m# Copyright (C) 2021 Hyunwoong Ko <kevin.brain@kakaobrain.com> and Sang-Kil Park <skpark1224@hyundai.com>\u001b[39;00m\n\u001b[1;32m      2\u001b[0m \u001b[38;5;66;03m# All rights reserved.\u001b[39;00m\n\u001b[0;32m----> 4\u001b[0m \u001b[38;5;28;01mfrom\u001b[39;00m \u001b[38;5;21;01mkss\u001b[39;00m\u001b[38;5;21;01m.\u001b[39;00m\u001b[38;5;21;01m_modules\u001b[39;00m\u001b[38;5;21;01m.\u001b[39;00m\u001b[38;5;21;01maugmentation\u001b[39;00m\u001b[38;5;21;01m.\u001b[39;00m\u001b[38;5;21;01maugment\u001b[39;00m \u001b[38;5;28;01mimport\u001b[39;00m augment\n\u001b[1;32m      5\u001b[0m \u001b[38;5;28;01mfrom\u001b[39;00m \u001b[38;5;21;01mkss\u001b[39;00m\u001b[38;5;21;01m.\u001b[39;00m\u001b[38;5;21;01m_modules\u001b[39;00m\u001b[38;5;21;01m.\u001b[39;00m\u001b[38;5;21;01mcollocation\u001b[39;00m\u001b[38;5;21;01m.\u001b[39;00m\u001b[38;5;21;01mcollocate\u001b[39;00m \u001b[38;5;28;01mimport\u001b[39;00m collocate\n\u001b[1;32m      6\u001b[0m \u001b[38;5;28;01mfrom\u001b[39;00m \u001b[38;5;21;01mkss\u001b[39;00m\u001b[38;5;21;01m.\u001b[39;00m\u001b[38;5;21;01m_modules\u001b[39;00m\u001b[38;5;21;01m.\u001b[39;00m\u001b[38;5;21;01mg2p\u001b[39;00m\u001b[38;5;21;01m.\u001b[39;00m\u001b[38;5;21;01mg2p\u001b[39;00m \u001b[38;5;28;01mimport\u001b[39;00m g2p\n",
      "File \u001b[0;32m/usr/local/lib/python3.11/site-packages/kss/_modules/augmentation/augment.py:4\u001b[0m\n\u001b[1;32m      1\u001b[0m \u001b[38;5;28;01mfrom\u001b[39;00m \u001b[38;5;21;01mfunctools\u001b[39;00m \u001b[38;5;28;01mimport\u001b[39;00m partial\n\u001b[1;32m      2\u001b[0m \u001b[38;5;28;01mfrom\u001b[39;00m \u001b[38;5;21;01mtyping\u001b[39;00m \u001b[38;5;28;01mimport\u001b[39;00m Union, List, Tuple\n\u001b[0;32m----> 4\u001b[0m \u001b[38;5;28;01mfrom\u001b[39;00m \u001b[38;5;21;01mkss\u001b[39;00m\u001b[38;5;21;01m.\u001b[39;00m\u001b[38;5;21;01m_modules\u001b[39;00m\u001b[38;5;21;01m.\u001b[39;00m\u001b[38;5;21;01maugmentation\u001b[39;00m\u001b[38;5;21;01m.\u001b[39;00m\u001b[38;5;21;01mreplacement\u001b[39;00m \u001b[38;5;28;01mimport\u001b[39;00m SynonymReplacement\n\u001b[1;32m      5\u001b[0m \u001b[38;5;28;01mfrom\u001b[39;00m \u001b[38;5;21;01mkss\u001b[39;00m\u001b[38;5;21;01m.\u001b[39;00m\u001b[38;5;21;01m_modules\u001b[39;00m\u001b[38;5;21;01m.\u001b[39;00m\u001b[38;5;21;01maugmentation\u001b[39;00m\u001b[38;5;21;01m.\u001b[39;00m\u001b[38;5;21;01mutils\u001b[39;00m \u001b[38;5;28;01mimport\u001b[39;00m correct_josa\n\u001b[1;32m      6\u001b[0m \u001b[38;5;28;01mfrom\u001b[39;00m \u001b[38;5;21;01mkss\u001b[39;00m\u001b[38;5;21;01m.\u001b[39;00m\u001b[38;5;21;01m_utils\u001b[39;00m\u001b[38;5;21;01m.\u001b[39;00m\u001b[38;5;21;01mlogger\u001b[39;00m \u001b[38;5;28;01mimport\u001b[39;00m highlight_diffs, logger\n",
      "File \u001b[0;32m/usr/local/lib/python3.11/site-packages/kss/_modules/augmentation/replacement.py:9\u001b[0m\n\u001b[1;32m      6\u001b[0m \u001b[38;5;28;01mfrom\u001b[39;00m \u001b[38;5;21;01mtyping\u001b[39;00m \u001b[38;5;28;01mimport\u001b[39;00m Union, List\n\u001b[1;32m      8\u001b[0m \u001b[38;5;28;01mfrom\u001b[39;00m \u001b[38;5;21;01mkss\u001b[39;00m\u001b[38;5;21;01m.\u001b[39;00m\u001b[38;5;21;01m_modules\u001b[39;00m\u001b[38;5;21;01m.\u001b[39;00m\u001b[38;5;21;01mmorphemes\u001b[39;00m\u001b[38;5;21;01m.\u001b[39;00m\u001b[38;5;21;01msplit_morphemes\u001b[39;00m \u001b[38;5;28;01mimport\u001b[39;00m split_morphemes\n\u001b[0;32m----> 9\u001b[0m \u001b[38;5;28;01mfrom\u001b[39;00m \u001b[38;5;21;01mkss\u001b[39;00m\u001b[38;5;21;01m.\u001b[39;00m\u001b[38;5;21;01m_modules\u001b[39;00m\u001b[38;5;21;01m.\u001b[39;00m\u001b[38;5;21;01maugmentation\u001b[39;00m\u001b[38;5;21;01m.\u001b[39;00m\u001b[38;5;21;01mutils\u001b[39;00m \u001b[38;5;28;01mimport\u001b[39;00m get_synonyms\n\u001b[1;32m     10\u001b[0m \u001b[38;5;28;01mfrom\u001b[39;00m \u001b[38;5;21;01mkss\u001b[39;00m\u001b[38;5;21;01m.\u001b[39;00m\u001b[38;5;21;01m_modules\u001b[39;00m\u001b[38;5;21;01m.\u001b[39;00m\u001b[38;5;21;01maugmentation\u001b[39;00m\u001b[38;5;21;01m.\u001b[39;00m\u001b[38;5;21;01mdistance\u001b[39;00m \u001b[38;5;28;01mimport\u001b[39;00m hangul_levenshtein\n\u001b[1;32m     13\u001b[0m \u001b[38;5;28;01mclass\u001b[39;00m \u001b[38;5;21;01mSynonymReplacement\u001b[39;00m:\n",
      "File \u001b[0;32m/usr/local/lib/python3.11/site-packages/kss/_modules/augmentation/utils.py:8\u001b[0m\n\u001b[1;32m      5\u001b[0m \u001b[38;5;28;01mimport\u001b[39;00m \u001b[38;5;21;01mos\u001b[39;00m\n\u001b[1;32m      7\u001b[0m \u001b[38;5;28;01mfrom\u001b[39;00m \u001b[38;5;21;01mkss\u001b[39;00m\u001b[38;5;21;01m.\u001b[39;00m\u001b[38;5;21;01m_modules\u001b[39;00m\u001b[38;5;21;01m.\u001b[39;00m\u001b[38;5;21;01mmorphemes\u001b[39;00m\u001b[38;5;21;01m.\u001b[39;00m\u001b[38;5;21;01msplit_morphemes\u001b[39;00m \u001b[38;5;28;01mimport\u001b[39;00m split_morphemes\n\u001b[0;32m----> 8\u001b[0m \u001b[38;5;28;01mfrom\u001b[39;00m \u001b[38;5;21;01mkss\u001b[39;00m\u001b[38;5;21;01m.\u001b[39;00m\u001b[38;5;21;01m_modules\u001b[39;00m\u001b[38;5;21;01m.\u001b[39;00m\u001b[38;5;21;01mjosa\u001b[39;00m\u001b[38;5;21;01m.\u001b[39;00m\u001b[38;5;21;01mjosa\u001b[39;00m \u001b[38;5;28;01mimport\u001b[39;00m select_josa\n\u001b[1;32m     10\u001b[0m WORDNET_JSON_PATH \u001b[38;5;241m=\u001b[39m os\u001b[38;5;241m.\u001b[39mpath\u001b[38;5;241m.\u001b[39mjoin(\n\u001b[1;32m     11\u001b[0m     os\u001b[38;5;241m.\u001b[39mpath\u001b[38;5;241m.\u001b[39mdirname(os\u001b[38;5;241m.\u001b[39mpath\u001b[38;5;241m.\u001b[39mabspath(\u001b[38;5;18m__file__\u001b[39m)), \u001b[38;5;124m\"\u001b[39m\u001b[38;5;124massets/wordnet.json\u001b[39m\u001b[38;5;124m\"\u001b[39m\n\u001b[1;32m     12\u001b[0m )\n\u001b[1;32m     14\u001b[0m \u001b[38;5;28;01mwith\u001b[39;00m \u001b[38;5;28mopen\u001b[39m(WORDNET_JSON_PATH, \u001b[38;5;124m\"\u001b[39m\u001b[38;5;124mr\u001b[39m\u001b[38;5;124m\"\u001b[39m, encoding\u001b[38;5;241m=\u001b[39m\u001b[38;5;124m\"\u001b[39m\u001b[38;5;124mutf-8\u001b[39m\u001b[38;5;124m\"\u001b[39m) \u001b[38;5;28;01mas\u001b[39;00m f:\n",
      "File \u001b[0;32m/usr/local/lib/python3.11/site-packages/kss/_modules/josa/josa.py:3\u001b[0m\n\u001b[1;32m      1\u001b[0m \u001b[38;5;28;01mfrom\u001b[39;00m \u001b[38;5;21;01mtyping\u001b[39;00m \u001b[38;5;28;01mimport\u001b[39;00m Union, List\n\u001b[0;32m----> 3\u001b[0m \u001b[38;5;28;01mfrom\u001b[39;00m \u001b[38;5;21;01mkss\u001b[39;00m\u001b[38;5;21;01m.\u001b[39;00m\u001b[38;5;21;01m_modules\u001b[39;00m\u001b[38;5;21;01m.\u001b[39;00m\u001b[38;5;21;01mjosa\u001b[39;00m\u001b[38;5;21;01m.\u001b[39;00m\u001b[38;5;21;01mutils\u001b[39;00m \u001b[38;5;28;01mimport\u001b[39;00m _check_text, _check_num_workers, _combine_josa, _run_job, _select_josa\n\u001b[1;32m      6\u001b[0m \u001b[38;5;28;01mdef\u001b[39;00m \u001b[38;5;21mselect_josa\u001b[39m(\n\u001b[1;32m      7\u001b[0m     prefix: Union[\u001b[38;5;28mstr\u001b[39m, List[\u001b[38;5;28mstr\u001b[39m]],\n\u001b[1;32m      8\u001b[0m     josa: Union[\u001b[38;5;28mstr\u001b[39m, List[\u001b[38;5;28mstr\u001b[39m]],\n\u001b[1;32m      9\u001b[0m     num_workers: Union[\u001b[38;5;28mint\u001b[39m, \u001b[38;5;28mstr\u001b[39m] \u001b[38;5;241m=\u001b[39m \u001b[38;5;124m\"\u001b[39m\u001b[38;5;124mauto\u001b[39m\u001b[38;5;124m\"\u001b[39m,\n\u001b[1;32m     10\u001b[0m ) \u001b[38;5;241m-\u001b[39m\u001b[38;5;241m>\u001b[39m Union[\u001b[38;5;28mstr\u001b[39m, List[\u001b[38;5;28mstr\u001b[39m]]:\n\u001b[1;32m     11\u001b[0m \u001b[38;5;250m    \u001b[39m\u001b[38;5;124;03m\"\"\"\u001b[39;00m\n\u001b[1;32m     12\u001b[0m \u001b[38;5;124;03m    This selects the correct josa for the given prefix.\u001b[39;00m\n\u001b[1;32m     13\u001b[0m \n\u001b[0;32m   (...)\u001b[0m\n\u001b[1;32m     32\u001b[0m \u001b[38;5;124;03m        This was copied from [tossi](https://github.com/what-studio/tossi) and modified by Kss\u001b[39;00m\n\u001b[1;32m     33\u001b[0m \u001b[38;5;124;03m    \"\"\"\u001b[39;00m\n",
      "File \u001b[0;32m/usr/local/lib/python3.11/site-packages/kss/_modules/josa/utils.py:4\u001b[0m\n\u001b[1;32m      1\u001b[0m \u001b[38;5;28;01mimport\u001b[39;00m \u001b[38;5;21;01mmultiprocessing\u001b[39;00m \u001b[38;5;28;01mas\u001b[39;00m \u001b[38;5;21;01mmp\u001b[39;00m\n\u001b[1;32m      2\u001b[0m \u001b[38;5;28;01mfrom\u001b[39;00m \u001b[38;5;21;01mtyping\u001b[39;00m \u001b[38;5;28;01mimport\u001b[39;00m Callable, Any, Optional, Union, List, Tuple\n\u001b[0;32m----> 4\u001b[0m \u001b[38;5;28;01mimport\u001b[39;00m \u001b[38;5;21;01mtossi\u001b[39;00m\n\u001b[1;32m      6\u001b[0m \u001b[38;5;28;01mfrom\u001b[39;00m \u001b[38;5;21;01mkss\u001b[39;00m\u001b[38;5;21;01m.\u001b[39;00m\u001b[38;5;21;01m_modules\u001b[39;00m\u001b[38;5;21;01m.\u001b[39;00m\u001b[38;5;21;01mmorphemes\u001b[39;00m\u001b[38;5;21;01m.\u001b[39;00m\u001b[38;5;21;01msplit_morphemes\u001b[39;00m \u001b[38;5;28;01mimport\u001b[39;00m split_morphemes\n\u001b[1;32m      9\u001b[0m \u001b[38;5;28;01mdef\u001b[39;00m \u001b[38;5;21m_check_text\u001b[39m(\n\u001b[1;32m     10\u001b[0m     param_1: Union[\u001b[38;5;28mstr\u001b[39m, List[\u001b[38;5;28mstr\u001b[39m]],\n\u001b[1;32m     11\u001b[0m     param_2: Union[\u001b[38;5;28mstr\u001b[39m, List[\u001b[38;5;28mstr\u001b[39m]],\n\u001b[1;32m     12\u001b[0m     param_1_name: \u001b[38;5;28mstr\u001b[39m,\n\u001b[1;32m     13\u001b[0m     param_2_name: \u001b[38;5;28mstr\u001b[39m\n\u001b[1;32m     14\u001b[0m ) \u001b[38;5;241m-\u001b[39m\u001b[38;5;241m>\u001b[39m Tuple[Union[\u001b[38;5;28mstr\u001b[39m, List[\u001b[38;5;28mstr\u001b[39m]], Union[\u001b[38;5;28mstr\u001b[39m, List[\u001b[38;5;28mstr\u001b[39m]]]:\n",
      "\u001b[0;31mModuleNotFoundError\u001b[0m: No module named 'tossi'"
     ]
    }
   ],
   "source": [
    "# english\n",
    "from g2p_en import G2p\n",
    "\n",
    "import nltk\n",
    "from nltk.stem import WordNetLemmatizer\n",
    "from nltk.tokenize import sent_tokenize\n",
    "\n",
    "# korea\n",
    "from g2pk import G2p\n",
    "\n",
    "from konlpy.tag import Mecab\n",
    "\n",
    "from kss import split_sentences\n",
    "\n",
    "# all\n",
    "import fasttext\n",
    "\n",
    "from word2word import Word2word\n",
    "\n",
    "# tokenizers\n",
    "from tokenizers.models import BPE, Unigram\n",
    "from tokenizers.normalizers import NFKC\n",
    "from tokenizers import Tokenizer, decoders, pre_tokenizers\n",
    "from tokenizers.implementations import BaseTokenizer\n",
    "\n",
    "# transformers\n",
    "from transformers import AdamW, AlbertForSequenceClassification, AlbertModel, TFAlbertModel, BertConfig, BertModel, BertJapaneseTokenizer, BertTokenizer, InputExample, InputFeatures\n",
    "from transformers import pipeline, AutoModelForSequenceClassification, PreTrainedTokenizer, RobertaModel, RobertaTokenizer\n",
    "from transformers.optimization import get_linear_schedule_with_warmup\n",
    "from sentence_transformers import SentenceTransformer, util"
   ]
  },
  {
   "cell_type": "code",
   "execution_count": 22,
   "id": "f692e18a-428e-418d-a0a8-148a7959a1d9",
   "metadata": {},
   "outputs": [
    {
     "name": "stdout",
     "output_type": "stream",
     "text": [
      "Requirement already satisfied: transformers in /usr/local/lib/python3.11/site-packages (4.53.2)\n",
      "Requirement already satisfied: filelock in /usr/local/lib/python3.11/site-packages (from transformers) (3.13.1)\n",
      "Collecting huggingface-hub<1.0,>=0.30.0 (from transformers)\n",
      "  Downloading huggingface_hub-0.33.4-py3-none-any.whl.metadata (14 kB)\n",
      "Requirement already satisfied: numpy>=1.17 in /usr/local/lib/python3.11/site-packages (from transformers) (1.26.4)\n",
      "Requirement already satisfied: packaging>=20.0 in /usr/local/lib/python3.11/site-packages (from transformers) (23.2)\n",
      "Requirement already satisfied: pyyaml>=5.1 in /usr/local/lib/python3.11/site-packages (from transformers) (6.0.2)\n",
      "Collecting regex!=2019.12.17 (from transformers)\n",
      "  Downloading regex-2024.11.6-cp311-cp311-manylinux_2_17_x86_64.manylinux2014_x86_64.whl.metadata (40 kB)\n",
      "Requirement already satisfied: requests in /usr/local/lib/python3.11/site-packages (from transformers) (2.32.3)\n",
      "Requirement already satisfied: tokenizers<0.22,>=0.21 in /usr/local/lib/python3.11/site-packages (from transformers) (0.21.2)\n",
      "Collecting safetensors>=0.4.3 (from transformers)\n",
      "  Downloading safetensors-0.5.3-cp38-abi3-manylinux_2_17_x86_64.manylinux2014_x86_64.whl.metadata (3.8 kB)\n",
      "Collecting tqdm>=4.27 (from transformers)\n",
      "  Downloading tqdm-4.67.1-py3-none-any.whl.metadata (57 kB)\n",
      "Requirement already satisfied: fsspec>=2023.5.0 in /usr/local/lib/python3.11/site-packages (from huggingface-hub<1.0,>=0.30.0->transformers) (2024.10.0)\n",
      "Requirement already satisfied: typing-extensions>=3.7.4.3 in /usr/local/lib/python3.11/site-packages (from huggingface-hub<1.0,>=0.30.0->transformers) (4.12.2)\n",
      "Collecting hf-xet<2.0.0,>=1.1.2 (from huggingface-hub<1.0,>=0.30.0->transformers)\n",
      "  Downloading hf_xet-1.1.5-cp37-abi3-manylinux_2_17_x86_64.manylinux2014_x86_64.whl.metadata (879 bytes)\n",
      "Requirement already satisfied: charset-normalizer<4,>=2 in /usr/local/lib/python3.11/site-packages (from requests->transformers) (3.3.2)\n",
      "Requirement already satisfied: idna<4,>=2.5 in /usr/local/lib/python3.11/site-packages (from requests->transformers) (3.7)\n",
      "Requirement already satisfied: urllib3<3,>=1.21.1 in /usr/local/lib/python3.11/site-packages (from requests->transformers) (2.2.2)\n",
      "Requirement already satisfied: certifi>=2017.4.17 in /usr/local/lib/python3.11/site-packages (from requests->transformers) (2024.7.4)\n",
      "Downloading huggingface_hub-0.33.4-py3-none-any.whl (515 kB)\n",
      "Downloading hf_xet-1.1.5-cp37-abi3-manylinux_2_17_x86_64.manylinux2014_x86_64.whl (3.1 MB)\n",
      "\u001b[2K   \u001b[90m━━━━━━━━━━━━━━━━━━━━━━━━━━━━━━━━━━━━━━━━\u001b[0m \u001b[32m3.1/3.1 MB\u001b[0m \u001b[31m11.8 MB/s\u001b[0m eta \u001b[36m0:00:00\u001b[0ma \u001b[36m0:00:01\u001b[0m\n",
      "\u001b[?25hDownloading regex-2024.11.6-cp311-cp311-manylinux_2_17_x86_64.manylinux2014_x86_64.whl (792 kB)\n",
      "\u001b[2K   \u001b[90m━━━━━━━━━━━━━━━━━━━━━━━━━━━━━━━━━━━━━━━━\u001b[0m \u001b[32m792.7/792.7 kB\u001b[0m \u001b[31m9.4 MB/s\u001b[0m eta \u001b[36m0:00:00\u001b[0m\n",
      "\u001b[?25hDownloading safetensors-0.5.3-cp38-abi3-manylinux_2_17_x86_64.manylinux2014_x86_64.whl (471 kB)\n",
      "Downloading tqdm-4.67.1-py3-none-any.whl (78 kB)\n",
      "Installing collected packages: tqdm, safetensors, regex, hf-xet, huggingface-hub\n",
      "\u001b[2K   \u001b[90m━━━━━━━━━━━━━━━━━━━━━━━━━━━━━━━━━━━━━━━━\u001b[0m \u001b[32m5/5\u001b[0m [huggingface-hub] [huggingface-hub]\n",
      "\u001b[1A\u001b[2KSuccessfully installed hf-xet-1.1.5 huggingface-hub-0.33.4 regex-2024.11.6 safetensors-0.5.3 tqdm-4.67.1\n",
      "\u001b[33mWARNING: Running pip as the 'root' user can result in broken permissions and conflicting behaviour with the system package manager, possibly rendering your system unusable. It is recommended to use a virtual environment instead: https://pip.pypa.io/warnings/venv. Use the --root-user-action option if you know what you are doing and want to suppress this warning.\u001b[0m\u001b[33m\n",
      "\u001b[0mRequirement already satisfied: tokenizers in /usr/local/lib/python3.11/site-packages (0.21.2)\n",
      "Requirement already satisfied: huggingface-hub<1.0,>=0.16.4 in /usr/local/lib/python3.11/site-packages (from tokenizers) (0.33.4)\n",
      "Requirement already satisfied: filelock in /usr/local/lib/python3.11/site-packages (from huggingface-hub<1.0,>=0.16.4->tokenizers) (3.13.1)\n",
      "Requirement already satisfied: fsspec>=2023.5.0 in /usr/local/lib/python3.11/site-packages (from huggingface-hub<1.0,>=0.16.4->tokenizers) (2024.10.0)\n",
      "Requirement already satisfied: packaging>=20.9 in /usr/local/lib/python3.11/site-packages (from huggingface-hub<1.0,>=0.16.4->tokenizers) (23.2)\n",
      "Requirement already satisfied: pyyaml>=5.1 in /usr/local/lib/python3.11/site-packages (from huggingface-hub<1.0,>=0.16.4->tokenizers) (6.0.2)\n",
      "Requirement already satisfied: requests in /usr/local/lib/python3.11/site-packages (from huggingface-hub<1.0,>=0.16.4->tokenizers) (2.32.3)\n",
      "Requirement already satisfied: tqdm>=4.42.1 in /usr/local/lib/python3.11/site-packages (from huggingface-hub<1.0,>=0.16.4->tokenizers) (4.67.1)\n",
      "Requirement already satisfied: typing-extensions>=3.7.4.3 in /usr/local/lib/python3.11/site-packages (from huggingface-hub<1.0,>=0.16.4->tokenizers) (4.12.2)\n",
      "Requirement already satisfied: hf-xet<2.0.0,>=1.1.2 in /usr/local/lib/python3.11/site-packages (from huggingface-hub<1.0,>=0.16.4->tokenizers) (1.1.5)\n",
      "Requirement already satisfied: charset-normalizer<4,>=2 in /usr/local/lib/python3.11/site-packages (from requests->huggingface-hub<1.0,>=0.16.4->tokenizers) (3.3.2)\n",
      "Requirement already satisfied: idna<4,>=2.5 in /usr/local/lib/python3.11/site-packages (from requests->huggingface-hub<1.0,>=0.16.4->tokenizers) (3.7)\n",
      "Requirement already satisfied: urllib3<3,>=1.21.1 in /usr/local/lib/python3.11/site-packages (from requests->huggingface-hub<1.0,>=0.16.4->tokenizers) (2.2.2)\n",
      "Requirement already satisfied: certifi>=2017.4.17 in /usr/local/lib/python3.11/site-packages (from requests->huggingface-hub<1.0,>=0.16.4->tokenizers) (2024.7.4)\n",
      "\u001b[33mWARNING: Running pip as the 'root' user can result in broken permissions and conflicting behaviour with the system package manager, possibly rendering your system unusable. It is recommended to use a virtual environment instead: https://pip.pypa.io/warnings/venv. Use the --root-user-action option if you know what you are doing and want to suppress this warning.\u001b[0m\u001b[33m\n",
      "\u001b[0m"
     ]
    }
   ],
   "source": [
    "! pip install transformers\n",
    "! pip install tokenizers\n"
   ]
  },
  {
   "cell_type": "code",
   "execution_count": 28,
   "id": "55277a1f-1aed-4797-aa53-74f0d9b678ae",
   "metadata": {},
   "outputs": [],
   "source": [
    "# transformers\n",
    "# from transformers import AdamW, AlbertForSequenceClassification, AlbertModel, TFAlbertModel, BertConfig, BertModel, BertJapaneseTokenizer, BertTokenizer, InputExample, InputFeatures\n",
    "from transformers import AlbertForSequenceClassification, AlbertModel, TFAlbertModel, BertConfig, BertModel, BertJapaneseTokenizer, BertTokenizer, InputExample, InputFeatures\n",
    "from torch.optim import AdamW\n",
    "\"\"\"cannot import name 'AdamW' from 'transformers' \n",
    "=> from torch.optim import AdamW\n",
    "\"\"\"\n",
    "\n",
    "\n",
    "from transformers import pipeline, AutoModelForSequenceClassification, PreTrainedTokenizer, RobertaModel, RobertaTokenizer\n",
    "from transformers.optimization import get_linear_schedule_with_warmup\n",
    "from sentence_transformers import SentenceTransformer, util"
   ]
  },
  {
   "cell_type": "code",
   "execution_count": 56,
   "id": "c7ff82da-a955-42e6-80d6-608e027a28f9",
   "metadata": {},
   "outputs": [
    {
     "name": "stdout",
     "output_type": "stream",
     "text": [
      "Requirement already satisfied: jamo in /usr/local/lib/python3.11/site-packages (0.4.1)\n",
      "\u001b[33mWARNING: Running pip as the 'root' user can result in broken permissions and conflicting behaviour with the system package manager, possibly rendering your system unusable. It is recommended to use a virtual environment instead: https://pip.pypa.io/warnings/venv. Use the --root-user-action option if you know what you are doing and want to suppress this warning.\u001b[0m\u001b[33m\n",
      "\u001b[0mRequirement already satisfied: kollocate in /usr/local/lib/python3.11/site-packages (0.0.2)\n",
      "\u001b[33mWARNING: Running pip as the 'root' user can result in broken permissions and conflicting behaviour with the system package manager, possibly rendering your system unusable. It is recommended to use a virtual environment instead: https://pip.pypa.io/warnings/venv. Use the --root-user-action option if you know what you are doing and want to suppress this warning.\u001b[0m\u001b[33m\n",
      "\u001b[0mRequirement already satisfied: jieba in /usr/local/lib/python3.11/site-packages (0.42.1)\n",
      "\u001b[33mWARNING: Running pip as the 'root' user can result in broken permissions and conflicting behaviour with the system package manager, possibly rendering your system unusable. It is recommended to use a virtual environment instead: https://pip.pypa.io/warnings/venv. Use the --root-user-action option if you know what you are doing and want to suppress this warning.\u001b[0m\u001b[33m\n",
      "\u001b[0mRequirement already satisfied: fugashi in /usr/local/lib/python3.11/site-packages (1.5.1)\n",
      "\u001b[33mWARNING: Running pip as the 'root' user can result in broken permissions and conflicting behaviour with the system package manager, possibly rendering your system unusable. It is recommended to use a virtual environment instead: https://pip.pypa.io/warnings/venv. Use the --root-user-action option if you know what you are doing and want to suppress this warning.\u001b[0m\u001b[33m\n",
      "\u001b[0mRequirement already satisfied: ipadic in /usr/local/lib/python3.11/site-packages (1.0.0)\n",
      "\u001b[33mWARNING: Running pip as the 'root' user can result in broken permissions and conflicting behaviour with the system package manager, possibly rendering your system unusable. It is recommended to use a virtual environment instead: https://pip.pypa.io/warnings/venv. Use the --root-user-action option if you know what you are doing and want to suppress this warning.\u001b[0m\u001b[33m\n",
      "\u001b[0mRequirement already satisfied: romkan in /usr/local/lib/python3.11/site-packages (0.2.1)\n",
      "\u001b[33mWARNING: Running pip as the 'root' user can result in broken permissions and conflicting behaviour with the system package manager, possibly rendering your system unusable. It is recommended to use a virtual environment instead: https://pip.pypa.io/warnings/venv. Use the --root-user-action option if you know what you are doing and want to suppress this warning.\u001b[0m\u001b[33m\n",
      "\u001b[0mRequirement already satisfied: g2pM in /usr/local/lib/python3.11/site-packages (0.1.2.5)\n",
      "\u001b[33mWARNING: Running pip as the 'root' user can result in broken permissions and conflicting behaviour with the system package manager, possibly rendering your system unusable. It is recommended to use a virtual environment instead: https://pip.pypa.io/warnings/venv. Use the --root-user-action option if you know what you are doing and want to suppress this warning.\u001b[0m\u001b[33m\n",
      "\u001b[0mRequirement already satisfied: mecab in /usr/local/lib/python3.11/site-packages (0.996.11)\n",
      "\u001b[33mWARNING: Running pip as the 'root' user can result in broken permissions and conflicting behaviour with the system package manager, possibly rendering your system unusable. It is recommended to use a virtual environment instead: https://pip.pypa.io/warnings/venv. Use the --root-user-action option if you know what you are doing and want to suppress this warning.\u001b[0m\u001b[33m\n",
      "\u001b[0mRequirement already satisfied: sentencepiece in /usr/local/lib/python3.11/site-packages (0.2.0)\n",
      "\u001b[33mWARNING: Running pip as the 'root' user can result in broken permissions and conflicting behaviour with the system package manager, possibly rendering your system unusable. It is recommended to use a virtual environment instead: https://pip.pypa.io/warnings/venv. Use the --root-user-action option if you know what you are doing and want to suppress this warning.\u001b[0m\u001b[33m\n",
      "\u001b[0mRequirement already satisfied: sacremoses in /usr/local/lib/python3.11/site-packages (0.1.1)\n",
      "\u001b[33mWARNING: Running pip as the 'root' user can result in broken permissions and conflicting behaviour with the system package manager, possibly rendering your system unusable. It is recommended to use a virtual environment instead: https://pip.pypa.io/warnings/venv. Use the --root-user-action option if you know what you are doing and want to suppress this warning.\u001b[0m\u001b[33m\n",
      "\u001b[0mRequirement already satisfied: python-crfsuite in /usr/local/lib/python3.11/site-packages (0.9.11)\n",
      "\u001b[33mWARNING: Running pip as the 'root' user can result in broken permissions and conflicting behaviour with the system package manager, possibly rendering your system unusable. It is recommended to use a virtual environment instead: https://pip.pypa.io/warnings/venv. Use the --root-user-action option if you know what you are doing and want to suppress this warning.\u001b[0m\u001b[33m\n",
      "\u001b[0m"
     ]
    }
   ],
   "source": [
    "! pip install --no-deps jamo\n",
    "! pip install --no-deps kollocate\n",
    "! pip install --no-deps jieba\n",
    "! pip install --no-deps fugashi\n",
    "! pip install --no-deps ipadic\n",
    "! pip install --no-deps romkan\n",
    "! pip install --no-deps g2pM\n",
    "! pip install --no-deps mecab\n",
    "! pip install --no-deps sentencepiece\n",
    "! pip install --no-deps sacremoses\n",
    "! pip install --no-deps python-crfsuite"
   ]
  },
  {
   "cell_type": "code",
   "execution_count": null,
   "id": "478ca93f-15c0-45a7-95df-c94c4a4d8882",
   "metadata": {},
   "outputs": [],
   "source": []
  },
  {
   "cell_type": "code",
   "execution_count": 57,
   "id": "315fe212-a47a-4ddc-afd1-6a7f058d41c3",
   "metadata": {},
   "outputs": [],
   "source": [
    "# korea\n",
    "from jamo import h2j, j2hcj, j2h\n",
    "from ko_pron import romanise\n",
    "from kollocate import Kollocate\n",
    "# from koparadigm import Paradigm\n",
    "\"\"\"XLRDError: Excel xlsx file; not supported\n",
    "\n",
    "\"\"\"\n",
    "\n",
    "# china\n",
    "import jieba\n",
    "import jieba.posseg\n",
    "\n",
    "# japan\n",
    "import fugashi\n",
    "import ipadic\n",
    "import romkan\n",
    "\n",
    "# all\n",
    "from g2pM import G2pM\n",
    "\n",
    "import mecab\n",
    "\n",
    "# tokenizers\n",
    "import sentencepiece\n",
    "\n",
    "from sacremoses import MosesDetokenizer, MosesTokenizer\n",
    "\n",
    "# model\n",
    "import pycrfsuite"
   ]
  },
  {
   "cell_type": "markdown",
   "id": "1d16fb8e-c55b-4dc3-98bc-b0be45da47b7",
   "metadata": {},
   "source": [
    "#### Geo Analysis"
   ]
  },
  {
   "cell_type": "code",
   "execution_count": 59,
   "id": "5575bb3a-a48d-46f1-bb36-a4830188f5fc",
   "metadata": {},
   "outputs": [
    {
     "name": "stdout",
     "output_type": "stream",
     "text": [
      "Collecting shapely\n",
      "  Downloading shapely-2.1.1-cp311-cp311-manylinux_2_17_x86_64.manylinux2014_x86_64.whl.metadata (6.7 kB)\n",
      "Downloading shapely-2.1.1-cp311-cp311-manylinux_2_17_x86_64.manylinux2014_x86_64.whl (3.1 MB)\n",
      "\u001b[2K   \u001b[90m━━━━━━━━━━━━━━━━━━━━━━━━━━━━━━━━━━━━━━━━\u001b[0m \u001b[32m3.1/3.1 MB\u001b[0m \u001b[31m10.9 MB/s\u001b[0m eta \u001b[36m0:00:00\u001b[0ma \u001b[36m0:00:01\u001b[0m\n",
      "\u001b[?25hInstalling collected packages: shapely\n",
      "Successfully installed shapely-2.1.1\n",
      "\u001b[33mWARNING: Running pip as the 'root' user can result in broken permissions and conflicting behaviour with the system package manager, possibly rendering your system unusable. It is recommended to use a virtual environment instead: https://pip.pypa.io/warnings/venv. Use the --root-user-action option if you know what you are doing and want to suppress this warning.\u001b[0m\u001b[33m\n",
      "\u001b[0mCollecting geopandas\n",
      "  Downloading geopandas-1.1.1-py3-none-any.whl.metadata (2.3 kB)\n",
      "Downloading geopandas-1.1.1-py3-none-any.whl (338 kB)\n",
      "Installing collected packages: geopandas\n",
      "Successfully installed geopandas-1.1.1\n",
      "\u001b[33mWARNING: Running pip as the 'root' user can result in broken permissions and conflicting behaviour with the system package manager, possibly rendering your system unusable. It is recommended to use a virtual environment instead: https://pip.pypa.io/warnings/venv. Use the --root-user-action option if you know what you are doing and want to suppress this warning.\u001b[0m\u001b[33m\n",
      "\u001b[0m"
     ]
    }
   ],
   "source": [
    "! pip install --no-deps shapely\n",
    "! pip install --no-deps geopandas"
   ]
  },
  {
   "cell_type": "code",
   "execution_count": 61,
   "id": "f0b8b13a-2f48-468e-ac12-2960e7347ce9",
   "metadata": {},
   "outputs": [],
   "source": [
    "import shapely\n",
    "\n",
    "from shapely import wkt\n",
    "from shapely.geometry import Polygon, Point, LineString\n",
    "\n",
    "import geopandas"
   ]
  },
  {
   "cell_type": "markdown",
   "id": "3cf46a9d-d627-45a1-8c3a-e80361fc6e25",
   "metadata": {},
   "source": [
    "#### Etc"
   ]
  },
  {
   "cell_type": "code",
   "execution_count": 36,
   "id": "63420cd8-0686-4f81-884f-19ee878aa115",
   "metadata": {},
   "outputs": [
    {
     "name": "stdout",
     "output_type": "stream",
     "text": [
      "Requirement already satisfied: html_table_extractor in /usr/local/lib/python3.11/site-packages (1.4.1)\n",
      "\u001b[33mWARNING: Running pip as the 'root' user can result in broken permissions and conflicting behaviour with the system package manager, possibly rendering your system unusable. It is recommended to use a virtual environment instead: https://pip.pypa.io/warnings/venv. Use the --root-user-action option if you know what you are doing and want to suppress this warning.\u001b[0m\u001b[33m\n",
      "\u001b[0mRequirement already satisfied: joblib in /usr/local/lib/python3.11/site-packages (1.5.1)\n",
      "\u001b[33mWARNING: Running pip as the 'root' user can result in broken permissions and conflicting behaviour with the system package manager, possibly rendering your system unusable. It is recommended to use a virtual environment instead: https://pip.pypa.io/warnings/venv. Use the --root-user-action option if you know what you are doing and want to suppress this warning.\u001b[0m\u001b[33m\n",
      "\u001b[0mRequirement already satisfied: wget in /usr/local/lib/python3.11/site-packages (3.2)\n",
      "\u001b[33mWARNING: Running pip as the 'root' user can result in broken permissions and conflicting behaviour with the system package manager, possibly rendering your system unusable. It is recommended to use a virtual environment instead: https://pip.pypa.io/warnings/venv. Use the --root-user-action option if you know what you are doing and want to suppress this warning.\u001b[0m\u001b[33m\n",
      "\u001b[0mRequirement already satisfied: pyathena in /usr/local/lib/python3.11/site-packages (3.15.0)\n",
      "\u001b[33mWARNING: Running pip as the 'root' user can result in broken permissions and conflicting behaviour with the system package manager, possibly rendering your system unusable. It is recommended to use a virtual environment instead: https://pip.pypa.io/warnings/venv. Use the --root-user-action option if you know what you are doing and want to suppress this warning.\u001b[0m\u001b[33m\n",
      "\u001b[0mRequirement already satisfied: whoosh in /usr/local/lib/python3.11/site-packages (2.7.4)\n",
      "\u001b[33mWARNING: Running pip as the 'root' user can result in broken permissions and conflicting behaviour with the system package manager, possibly rendering your system unusable. It is recommended to use a virtual environment instead: https://pip.pypa.io/warnings/venv. Use the --root-user-action option if you know what you are doing and want to suppress this warning.\u001b[0m\u001b[33m\n",
      "\u001b[0mRequirement already satisfied: fastdtw in /usr/local/lib/python3.11/site-packages (0.3.4)\n",
      "\u001b[33mWARNING: Running pip as the 'root' user can result in broken permissions and conflicting behaviour with the system package manager, possibly rendering your system unusable. It is recommended to use a virtual environment instead: https://pip.pypa.io/warnings/venv. Use the --root-user-action option if you know what you are doing and want to suppress this warning.\u001b[0m\u001b[33m\n",
      "\u001b[0mRequirement already satisfied: natsort in /usr/local/lib/python3.11/site-packages (8.4.0)\n",
      "\u001b[33mWARNING: Running pip as the 'root' user can result in broken permissions and conflicting behaviour with the system package manager, possibly rendering your system unusable. It is recommended to use a virtual environment instead: https://pip.pypa.io/warnings/venv. Use the --root-user-action option if you know what you are doing and want to suppress this warning.\u001b[0m\u001b[33m\n",
      "\u001b[0mRequirement already satisfied: marisa_trie in /usr/local/lib/python3.11/site-packages (1.2.1)\n",
      "\u001b[33mWARNING: Running pip as the 'root' user can result in broken permissions and conflicting behaviour with the system package manager, possibly rendering your system unusable. It is recommended to use a virtual environment instead: https://pip.pypa.io/warnings/venv. Use the --root-user-action option if you know what you are doing and want to suppress this warning.\u001b[0m\u001b[33m\n",
      "\u001b[0mRequirement already satisfied: tqdm in /usr/local/lib/python3.11/site-packages (4.67.1)\n",
      "\u001b[33mWARNING: Running pip as the 'root' user can result in broken permissions and conflicting behaviour with the system package manager, possibly rendering your system unusable. It is recommended to use a virtual environment instead: https://pip.pypa.io/warnings/venv. Use the --root-user-action option if you know what you are doing and want to suppress this warning.\u001b[0m\u001b[33m\n",
      "\u001b[0mRequirement already satisfied: pyodbc in /usr/local/lib/python3.11/site-packages (5.2.0)\n",
      "\u001b[33mWARNING: Running pip as the 'root' user can result in broken permissions and conflicting behaviour with the system package manager, possibly rendering your system unusable. It is recommended to use a virtual environment instead: https://pip.pypa.io/warnings/venv. Use the --root-user-action option if you know what you are doing and want to suppress this warning.\u001b[0m\u001b[33m\n",
      "\u001b[0mCollecting lxml\n",
      "  Downloading lxml-6.0.0-cp311-cp311-manylinux_2_27_x86_64.manylinux_2_28_x86_64.whl.metadata (6.6 kB)\n",
      "Downloading lxml-6.0.0-cp311-cp311-manylinux_2_27_x86_64.manylinux_2_28_x86_64.whl (5.2 MB)\n",
      "\u001b[2K   \u001b[90m━━━━━━━━━━━━━━━━━━━━━━━━━━━━━━━━━━━━━━━━\u001b[0m \u001b[32m5.2/5.2 MB\u001b[0m \u001b[31m11.8 MB/s\u001b[0m eta \u001b[36m0:00:00\u001b[0ma \u001b[36m0:00:01\u001b[0m\n",
      "\u001b[?25hInstalling collected packages: lxml\n",
      "Successfully installed lxml-6.0.0\n",
      "\u001b[33mWARNING: Running pip as the 'root' user can result in broken permissions and conflicting behaviour with the system package manager, possibly rendering your system unusable. It is recommended to use a virtual environment instead: https://pip.pypa.io/warnings/venv. Use the --root-user-action option if you know what you are doing and want to suppress this warning.\u001b[0m\u001b[33m\n",
      "\u001b[0m"
     ]
    }
   ],
   "source": [
    "! pip install --no-deps html_table_extractor\n",
    "! pip install --no-deps joblib\n",
    "! pip install --no-deps wget\n",
    "! pip install --no-deps pyathena\n",
    "! pip install --no-deps whoosh\n",
    "! pip install --no-deps fastdtw\n",
    "! pip install --no-deps natsort\n",
    "! pip install --no-deps marisa_trie\n",
    "! pip install --no-deps tqdm\n",
    "! pip install --no-deps pyodbc\n",
    "! pip install --no-deps lxml"
   ]
  },
  {
   "cell_type": "code",
   "execution_count": 37,
   "id": "de9d08c6-0dfb-476d-a0bc-d26c3b24b801",
   "metadata": {},
   "outputs": [
    {
     "data": {
      "text/plain": [
       "'\\nlibodbc.so.2: cannot open shared object file: No such file or directory\\n'"
      ]
     },
     "execution_count": 37,
     "metadata": {},
     "output_type": "execute_result"
    }
   ],
   "source": [
    "from html_table_extractor.extractor import Extractor\n",
    "\n",
    "import joblib\n",
    "\n",
    "import wget\n",
    "\n",
    "from lxml import etree\n",
    "\n",
    "from pyathena import connect\n",
    "from pyathena.pandas.util import to_sql\n",
    "\n",
    "from whoosh import index\n",
    "from whoosh.qparser import QueryParser\n",
    "\n",
    "from fastdtw import fastdtw\n",
    "\n",
    "from natsort import natsorted\n",
    "\n",
    "from marisa_trie import RecordTrie, Trie\n",
    "\n",
    "from tqdm import tqdm\n",
    "\n",
    "import pyodbc\n",
    "\"\"\"\n",
    "libodbc.so.2: cannot open shared object file: No such file or directory\n",
    "\"\"\""
   ]
  },
  {
   "cell_type": "code",
   "execution_count": 32,
   "id": "7820415a-c38c-46ea-be45-39a0d1deb390",
   "metadata": {},
   "outputs": [
    {
     "name": "stdout",
     "output_type": "stream",
     "text": [
      "Collecting umap-learn\n",
      "  Downloading umap_learn-0.5.9.post2-py3-none-any.whl.metadata (25 kB)\n",
      "Downloading umap_learn-0.5.9.post2-py3-none-any.whl (90 kB)\n",
      "Installing collected packages: umap-learn\n",
      "Successfully installed umap-learn-0.5.9.post2\n",
      "\u001b[33mWARNING: Running pip as the 'root' user can result in broken permissions and conflicting behaviour with the system package manager, possibly rendering your system unusable. It is recommended to use a virtual environment instead: https://pip.pypa.io/warnings/venv. Use the --root-user-action option if you know what you are doing and want to suppress this warning.\u001b[0m\u001b[33m\n",
      "\u001b[0mCollecting gower\n",
      "  Downloading gower-0.1.2-py3-none-any.whl.metadata (3.7 kB)\n",
      "Downloading gower-0.1.2-py3-none-any.whl (5.2 kB)\n",
      "Installing collected packages: gower\n",
      "Successfully installed gower-0.1.2\n",
      "\u001b[33mWARNING: Running pip as the 'root' user can result in broken permissions and conflicting behaviour with the system package manager, possibly rendering your system unusable. It is recommended to use a virtual environment instead: https://pip.pypa.io/warnings/venv. Use the --root-user-action option if you know what you are doing and want to suppress this warning.\u001b[0m\u001b[33m\n",
      "\u001b[0mCollecting shap\n",
      "  Downloading shap-0.48.0-cp311-cp311-manylinux_2_17_x86_64.manylinux2014_x86_64.whl.metadata (25 kB)\n",
      "Downloading shap-0.48.0-cp311-cp311-manylinux_2_17_x86_64.manylinux2014_x86_64.whl (1.0 MB)\n",
      "\u001b[2K   \u001b[90m━━━━━━━━━━━━━━━━━━━━━━━━━━━━━━━━━━━━━━━━\u001b[0m \u001b[32m1.0/1.0 MB\u001b[0m \u001b[31m4.6 MB/s\u001b[0m eta \u001b[36m0:00:00\u001b[0m-:--:--\u001b[0m\n",
      "\u001b[?25hInstalling collected packages: shap\n",
      "Successfully installed shap-0.48.0\n",
      "\u001b[33mWARNING: Running pip as the 'root' user can result in broken permissions and conflicting behaviour with the system package manager, possibly rendering your system unusable. It is recommended to use a virtual environment instead: https://pip.pypa.io/warnings/venv. Use the --root-user-action option if you know what you are doing and want to suppress this warning.\u001b[0m\u001b[33m\n",
      "\u001b[0mCollecting pynndescent\n",
      "  Downloading pynndescent-0.5.13-py3-none-any.whl.metadata (6.8 kB)\n",
      "Downloading pynndescent-0.5.13-py3-none-any.whl (56 kB)\n",
      "Installing collected packages: pynndescent\n",
      "Successfully installed pynndescent-0.5.13\n",
      "\u001b[33mWARNING: Running pip as the 'root' user can result in broken permissions and conflicting behaviour with the system package manager, possibly rendering your system unusable. It is recommended to use a virtual environment instead: https://pip.pypa.io/warnings/venv. Use the --root-user-action option if you know what you are doing and want to suppress this warning.\u001b[0m\u001b[33m\n",
      "\u001b[0mCollecting xverse\n",
      "  Downloading xverse-1.0.5-py3-none-any.whl.metadata (19 kB)\n",
      "\u001b[33mWARNING: Package 'xverse' has an invalid Requires-Python: Invalid specifier: '>=3.5.*'\u001b[0m\u001b[33m\n",
      "\u001b[0mDownloading xverse-1.0.5-py3-none-any.whl (21 kB)\n",
      "Installing collected packages: xverse\n",
      "Successfully installed xverse-1.0.5\n",
      "\u001b[33mWARNING: Running pip as the 'root' user can result in broken permissions and conflicting behaviour with the system package manager, possibly rendering your system unusable. It is recommended to use a virtual environment instead: https://pip.pypa.io/warnings/venv. Use the --root-user-action option if you know what you are doing and want to suppress this warning.\u001b[0m\u001b[33m\n",
      "\u001b[0m"
     ]
    }
   ],
   "source": [
    "! pip install --no-deps umap-learn\n",
    "! pip install --no-deps gower\n",
    "! pip install --no-deps shap\n",
    "! pip install --no-deps pynndescent\n",
    "! pip install --no-deps xverse"
   ]
  },
  {
   "cell_type": "code",
   "execution_count": 34,
   "id": "31c88685-ab2f-488c-9dfb-ee374d793240",
   "metadata": {},
   "outputs": [
    {
     "ename": "ModuleNotFoundError",
     "evalue": "No module named 'llvmlite'",
     "output_type": "error",
     "traceback": [
      "\u001b[0;31m---------------------------------------------------------------------------\u001b[0m",
      "\u001b[0;31mModuleNotFoundError\u001b[0m                       Traceback (most recent call last)",
      "Cell \u001b[0;32mIn[34], line 1\u001b[0m\n\u001b[0;32m----> 1\u001b[0m \u001b[38;5;28;01mfrom\u001b[39;00m \u001b[38;5;21;01mumap\u001b[39;00m \u001b[38;5;28;01mimport\u001b[39;00m UMAP\n\u001b[1;32m      3\u001b[0m \u001b[38;5;28;01mimport\u001b[39;00m \u001b[38;5;21;01mgower\u001b[39;00m\n\u001b[1;32m      5\u001b[0m \u001b[38;5;28;01mimport\u001b[39;00m \u001b[38;5;21;01mshap\u001b[39;00m\n",
      "File \u001b[0;32m/usr/local/lib/python3.11/site-packages/umap/__init__.py:2\u001b[0m\n\u001b[1;32m      1\u001b[0m \u001b[38;5;28;01mfrom\u001b[39;00m \u001b[38;5;21;01mwarnings\u001b[39;00m \u001b[38;5;28;01mimport\u001b[39;00m warn, catch_warnings, simplefilter\n\u001b[0;32m----> 2\u001b[0m \u001b[38;5;28;01mfrom\u001b[39;00m \u001b[38;5;21;01m.\u001b[39;00m\u001b[38;5;21;01mumap_\u001b[39;00m \u001b[38;5;28;01mimport\u001b[39;00m UMAP\n\u001b[1;32m      4\u001b[0m \u001b[38;5;28;01mtry\u001b[39;00m:\n\u001b[1;32m      5\u001b[0m     \u001b[38;5;28;01mwith\u001b[39;00m catch_warnings():\n",
      "File \u001b[0;32m/usr/local/lib/python3.11/site-packages/umap/umap_.py:29\u001b[0m\n\u001b[1;32m     27\u001b[0m \u001b[38;5;28;01mfrom\u001b[39;00m \u001b[38;5;21;01mscipy\u001b[39;00m\u001b[38;5;21;01m.\u001b[39;00m\u001b[38;5;21;01msparse\u001b[39;00m \u001b[38;5;28;01mimport\u001b[39;00m tril \u001b[38;5;28;01mas\u001b[39;00m sparse_tril, triu \u001b[38;5;28;01mas\u001b[39;00m sparse_triu\n\u001b[1;32m     28\u001b[0m \u001b[38;5;28;01mimport\u001b[39;00m \u001b[38;5;21;01mscipy\u001b[39;00m\u001b[38;5;21;01m.\u001b[39;00m\u001b[38;5;21;01msparse\u001b[39;00m\u001b[38;5;21;01m.\u001b[39;00m\u001b[38;5;21;01mcsgraph\u001b[39;00m\n\u001b[0;32m---> 29\u001b[0m \u001b[38;5;28;01mimport\u001b[39;00m \u001b[38;5;21;01mnumba\u001b[39;00m\n\u001b[1;32m     31\u001b[0m \u001b[38;5;28;01mimport\u001b[39;00m \u001b[38;5;21;01mumap\u001b[39;00m\u001b[38;5;21;01m.\u001b[39;00m\u001b[38;5;21;01mdistances\u001b[39;00m \u001b[38;5;28;01mas\u001b[39;00m \u001b[38;5;21;01mdist\u001b[39;00m\n\u001b[1;32m     33\u001b[0m \u001b[38;5;28;01mimport\u001b[39;00m \u001b[38;5;21;01mumap\u001b[39;00m\u001b[38;5;21;01m.\u001b[39;00m\u001b[38;5;21;01msparse\u001b[39;00m \u001b[38;5;28;01mas\u001b[39;00m \u001b[38;5;21;01msparse\u001b[39;00m\n",
      "File \u001b[0;32m/usr/local/lib/python3.11/site-packages/numba/__init__.py:73\u001b[0m\n\u001b[1;32m     69\u001b[0m \u001b[38;5;28;01mdel\u001b[39;00m get_versions\n\u001b[1;32m     70\u001b[0m \u001b[38;5;28;01mdel\u001b[39;00m generate_version_info\n\u001b[0;32m---> 73\u001b[0m \u001b[38;5;28;01mfrom\u001b[39;00m \u001b[38;5;21;01mnumba\u001b[39;00m\u001b[38;5;21;01m.\u001b[39;00m\u001b[38;5;21;01mcore\u001b[39;00m \u001b[38;5;28;01mimport\u001b[39;00m config\n\u001b[1;32m     74\u001b[0m \u001b[38;5;28;01mfrom\u001b[39;00m \u001b[38;5;21;01mnumba\u001b[39;00m\u001b[38;5;21;01m.\u001b[39;00m\u001b[38;5;21;01mcore\u001b[39;00m \u001b[38;5;28;01mimport\u001b[39;00m types, errors\n\u001b[1;32m     76\u001b[0m \u001b[38;5;66;03m# Re-export typeof\u001b[39;00m\n",
      "File \u001b[0;32m/usr/local/lib/python3.11/site-packages/numba/core/config.py:17\u001b[0m\n\u001b[1;32m     13\u001b[0m \u001b[38;5;28;01mexcept\u001b[39;00m \u001b[38;5;167;01mImportError\u001b[39;00m:\n\u001b[1;32m     14\u001b[0m     _HAVE_YAML \u001b[38;5;241m=\u001b[39m \u001b[38;5;28;01mFalse\u001b[39;00m\n\u001b[0;32m---> 17\u001b[0m \u001b[38;5;28;01mimport\u001b[39;00m \u001b[38;5;21;01mllvmlite\u001b[39;00m\u001b[38;5;21;01m.\u001b[39;00m\u001b[38;5;21;01mbinding\u001b[39;00m \u001b[38;5;28;01mas\u001b[39;00m \u001b[38;5;21;01mll\u001b[39;00m\n\u001b[1;32m     20\u001b[0m IS_WIN32 \u001b[38;5;241m=\u001b[39m sys\u001b[38;5;241m.\u001b[39mplatform\u001b[38;5;241m.\u001b[39mstartswith(\u001b[38;5;124m'\u001b[39m\u001b[38;5;124mwin32\u001b[39m\u001b[38;5;124m'\u001b[39m)\n\u001b[1;32m     21\u001b[0m IS_OSX \u001b[38;5;241m=\u001b[39m sys\u001b[38;5;241m.\u001b[39mplatform\u001b[38;5;241m.\u001b[39mstartswith(\u001b[38;5;124m'\u001b[39m\u001b[38;5;124mdarwin\u001b[39m\u001b[38;5;124m'\u001b[39m)\n",
      "\u001b[0;31mModuleNotFoundError\u001b[0m: No module named 'llvmlite'"
     ]
    }
   ],
   "source": [
    "from umap import UMAP\n",
    "\n",
    "import gower\n",
    "\n",
    "import shap\n",
    "\n",
    "import pynndescent\n",
    "\n",
    "from xverse.transformer import WOE"
   ]
  },
  {
   "cell_type": "code",
   "execution_count": null,
   "id": "edde6f08-c271-4597-802d-4f8414c5f0a1",
   "metadata": {},
   "outputs": [],
   "source": []
  }
 ],
 "metadata": {
  "kernelspec": {
   "display_name": "Python 3 (ipykernel)",
   "language": "python",
   "name": "python3"
  },
  "language_info": {
   "codemirror_mode": {
    "name": "ipython",
    "version": 3
   },
   "file_extension": ".py",
   "mimetype": "text/x-python",
   "name": "python",
   "nbconvert_exporter": "python",
   "pygments_lexer": "ipython3",
   "version": "3.11.12"
  }
 },
 "nbformat": 4,
 "nbformat_minor": 5
}
